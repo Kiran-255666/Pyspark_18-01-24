{
  "cells": [
    {
      "cell_type": "markdown",
      "metadata": {
        "id": "OQYr8tKjnm60"
      },
      "source": [
        "# What is PySpark?\n",
        "pyspark is a python api for working with apache spark. I will first explain what do I mean by a \"python api\" for something and then explain what, specifically, is 'apache spark'.\n",
        "\n",
        "what I mean by **'python api'** is that you can use the syntex and agility of python to interact with and send commands to a system that is not based, at its core, on python.\n",
        "\n",
        "with pyspark, you intercat with apache spark - a system designed for working, analyzing and modeling with immense amounts of data in many computers at the same time. putting it in a different way, apache spark allows you to run computations in parallel, instead of sequentially. it allows you to divide one incredibly large task into many smaller tasks, and run each such task on a different machine.this allowes you to accomplish your analysis goals in reasonable time that would not be possible on a single machine.\n",
        "\n",
        "usually, we would define the amount of data that suits PySpark as what would not fit into a single machine storage (let alone RAM).\n",
        "\n",
        "**important related concepts:**\n",
        "1. distributed computing - when you distribute a task into several smaller task that run at the same time. this is what pyspark allows you to do with many machines, but it can also be done on a single machine with several threads, for example.\n",
        "2. cluster - a network of machines that can take on tasks from a user, interact with one another and return results. these provide the computing resources that pyspark will use to make the computations.\n",
        "3. Resilient Distributed Dataset (RDD) - an immutable distributed collection of data. it is not tabular, like DataFrames which we will work with later, and has no data schema. therefore, for tabular data wrangling, DataFrames allowes for more API options and uner-then-hood optimizations. still, you might encounter RDDs as you learn more about Spark, and should be aware of their existence.\n",
        "\n",
        "**Part of PySpark we will cover:**\n",
        "1. PySpark SQL - contains commands for data processing and manipulation.\n",
        "2. PySpark MLlib - includes a variety of models, model training and related commands.\n",
        "\n",
        "**Spark Architecture:**\n",
        "to send commands and receive results from a cluster, you will need to initiate a spark session. this object is your tool for interacting with Spark. each user of the cluster will have its own Spark Session, that will allow him to use the cluster in isolation from other users. all of the sessions are communicating with a spark context, which is the master node in the cluster - that is, it assigns each of computers in the cluster tasks and coordinates them. each of the computers in the cluster that perform tasks for a master node is called a worker node. to connect to a worker node, the master node needs to get that node's comput power allocated to it, by a cluster manager, that is responsable for distributing the cluster resources. inside each worker node, there are execute programs that run the tasks - they can run multiple tasks simultaneously, and has their own cashe for storing results. so, each master node can have multiple worker nodes, that can have multiple tasks running.  "
      ]
    },
    {
      "cell_type": "code",
      "execution_count": null,
      "metadata": {
        "id": "6tkXlaYVnm69"
      },
      "outputs": [],
      "source": [
        "# a SparkSession object can perform the most common data processing tasks\n",
        "from pyspark.sql import SparkSession\n",
        "spark = SparkSession.builder.appName('test').getOrCreate() # will return existing session if one was\n",
        "                                                           # created before and was not closed"
      ]
    },
    {
      "cell_type": "code",
      "execution_count": null,
      "metadata": {
        "id": "oYGE_U02nm7A"
      },
      "outputs": [],
      "source": [
        "spark"
      ]
    },
    {
      "cell_type": "markdown",
      "metadata": {
        "id": "r7Ra-wX3nm7E"
      },
      "source": [
        "**dataset:**\n",
        "https://www.kaggle.com/fedesoriano/heart-failure-prediction"
      ]
    },
    {
      "cell_type": "code",
      "execution_count": null,
      "metadata": {
        "id": "xWyiuY5cnm7F"
      },
      "outputs": [],
      "source": [
        "# read csv, all columns will be of type string\n",
        "df = spark.read.option('header','true').csv('heart.csv')\n",
        "# tell pyspark the type of the columns - saves time on large dataset. there are other ways to do this, but that's\n",
        "# my favorite\n",
        "schema = 'Age INTEGER, Sex STRING, ChestPainType STRING'\n",
        "df = spark.read.csv('/Users/mreznik/heart.csv', schema=schema, header=True)\n",
        "# let PySpark infer the schema\n",
        "df = spark.read.csv('/Users/mreznik/heart.csv', inferSchema=True, header=True)\n",
        "# replace nulls with other value at reading time\n",
        "df = spark.read.csv('/Users/mreznik/heart.csv', nullValue='NA')\n",
        "# save data\n",
        "df.write.format(\"csv\").save(\"heart_save.csv\")\n",
        "# if you want to overwrite the file\n",
        "df.write.format(\"csv\").mode(\"overwrite\").save(\"heart_save.csv\")"
      ]
    },
    {
      "cell_type": "code",
      "execution_count": null,
      "metadata": {
        "id": "-EYyGy_anm7G"
      },
      "outputs": [],
      "source": [
        "# show head of table\n",
        "df.show(3)"
      ]
    },
    {
      "cell_type": "code",
      "execution_count": null,
      "metadata": {
        "id": "6pgg-1tknm7I"
      },
      "outputs": [],
      "source": [
        "# count number of rows\n",
        "df.count()"
      ]
    },
    {
      "cell_type": "code",
      "execution_count": null,
      "metadata": {
        "id": "3MhKHjgynm7K"
      },
      "outputs": [],
      "source": [
        "# show parts of the table\n",
        "df.select('Age').show(3)\n",
        "df.select(['Age','Sex']).show(3)"
      ]
    },
    {
      "cell_type": "markdown",
      "metadata": {
        "id": "3o4f3AZ6nm7L"
      },
      "source": [
        "## Pandas DataFrame VS PySpark DataFrame\n",
        "\n",
        "both represents a table of data with rows and columns. however, under the hood they are different, as PySpark dataframe needs to support distributed computations. as we move forward, we will see more and more features of it that are not present in Pandas DataFrame. that being said - if you know how to use Pandas, than moving to PySpark will feel like a natural transition.\n",
        "\n",
        "## DAG\n",
        "directed acyclic graph is the way Spark runs computations. when you give it a series of transformation to apply to the dataset, it build a graph out of those transformations, so it knows what to do - but it does not execute those commands immediately, if it does not have to. rather, it is lazy - it will go through the DAG and apply the transformations only when it must, to provide a needed result. this allows better performance, since spark knows what's ahead of a certain computation and get optimize the process accordingly.\n",
        "\n",
        "## transformations VS actions\n",
        "in PySpark, there are two types of command: transformations and actions. transformation commands are added to the DAG, but does not get it to actually be executed. they transform one DataFrame into another, not changing the input DataFrame. on the other hand, actions make PySpark execute the DAG but does not create a new DataFrame - instead, they output the result of the DAG.\n",
        "\n",
        "## Caching\n",
        "every time you run a DAG, it will be re-computed from the beginning. that is, the results are not saved in memory.\n",
        "so, if we want to save a result so it won't have to be recomputed, we can use the cache command. note, that this will occupy space in the working node's memory - so be careful with the sizes of datasets you are caching! by default, the cached DF is stored to RAM, and is unserialized (not converted into a stream of bytes). you can change both of these - store data to hard disk, serialized it, or both!\n",
        "\n",
        "## Collecting\n",
        "even after caching a DataFrame, it still sits in the worker nodes memory. if you want to collect is pieces, assemble them and save them on the master node so you won't have to pull it every time, use the command for collecting. again, be very careful with this, since the collected file will have to fit in the master node memory!"
      ]
    },
    {
      "cell_type": "code",
      "execution_count": null,
      "metadata": {
        "id": "kztf6jBUnm7N"
      },
      "outputs": [],
      "source": [
        "df.cache()\n",
        "df.collect()"
      ]
    },
    {
      "cell_type": "code",
      "execution_count": null,
      "metadata": {
        "id": "nMBGn5o3nm7O"
      },
      "outputs": [],
      "source": [
        "# convert PySpark DataFrame to Pandas DataFrame\n",
        "pd_df = df.toPandas()\n",
        "# convert it back\n",
        "spark_df = spark.createDataFrame(pd_df)"
      ]
    },
    {
      "cell_type": "code",
      "execution_count": null,
      "metadata": {
        "id": "CPkcSGMYnm7O"
      },
      "outputs": [],
      "source": [
        "# show first three rows as three row objects, which is how spark represents single rows from a table.\n",
        "# we will learn more about it later\n",
        "df.head(3)"
      ]
    },
    {
      "cell_type": "code",
      "execution_count": null,
      "metadata": {
        "id": "0k1WEMagnm7P"
      },
      "outputs": [],
      "source": [
        "# type os columns\n",
        "df.printSchema()"
      ]
    },
    {
      "cell_type": "code",
      "execution_count": null,
      "metadata": {
        "id": "SX9KnWUpnm7Q"
      },
      "outputs": [],
      "source": [
        "# column dtypes as list of tuples\n",
        "df.dtypes"
      ]
    },
    {
      "cell_type": "code",
      "execution_count": null,
      "metadata": {
        "id": "Agl6mjMxnm7R"
      },
      "outputs": [],
      "source": [
        "# cast a column from one type to other\n",
        "from pyspark.sql.types import FloatType\n",
        "df = df.withColumn(\"Age\",df.Age.cast(FloatType()))\n",
        "df = df.withColumn(\"RestingBP\",df.Age.cast(FloatType()))"
      ]
    },
    {
      "cell_type": "code",
      "execution_count": null,
      "metadata": {
        "id": "rZ7KGx0Knm7R"
      },
      "outputs": [],
      "source": [
        "# compute summery statistics\n",
        "df.select(['Age','RestingBP']).describe().show()"
      ]
    },
    {
      "cell_type": "code",
      "execution_count": null,
      "metadata": {
        "id": "HNpHN8ovnm7S"
      },
      "outputs": [],
      "source": [
        "# add a new column or replace existing one\n",
        "AgeFixed = df['Age'] + 1  # select alwayes returns a DataFrame object, and we need a column object\n",
        "df = df.withColumn('AgeFixed', AgeFixed)"
      ]
    },
    {
      "cell_type": "code",
      "execution_count": null,
      "metadata": {
        "id": "GunEyp2anm7T"
      },
      "outputs": [],
      "source": [
        "df.select(['AgeFixed','Age']).describe().show()"
      ]
    },
    {
      "cell_type": "code",
      "execution_count": null,
      "metadata": {
        "id": "T_WHcIq8nm7U"
      },
      "outputs": [],
      "source": [
        "# remove columns\n",
        "df.drop('AgeFixed').show(1) # add df = to get the new DataFrame into a variable"
      ]
    },
    {
      "cell_type": "code",
      "execution_count": null,
      "metadata": {
        "id": "JuNpR0AYnm7V"
      },
      "outputs": [],
      "source": [
        "# rename a column\n",
        "df.withColumnRenamed('Age','age').select('age').show(1)\n",
        "# to rename more than a single column, i would suggest a loop.\n",
        "name_pairs = [('Age','age'),('Sex','sex')]\n",
        "for old_name, new_name in name_pairs:\n",
        "    df = df.withColumnRenamed(old_name,new_name)"
      ]
    },
    {
      "cell_type": "code",
      "execution_count": null,
      "metadata": {
        "id": "C60ktrl8nm7V"
      },
      "outputs": [],
      "source": [
        "df.select(['age','sex']).show(1)"
      ]
    },
    {
      "cell_type": "code",
      "execution_count": null,
      "metadata": {
        "id": "bo0Plku6nm7W"
      },
      "outputs": [],
      "source": [
        "# drop all rows that contain any NA\n",
        "df = df.na.drop()\n",
        "df.count()\n",
        "# drop all rows where all values are NA\n",
        "df = df.na.drop(how='all')\n",
        "# drop all rows where more at least 2 values are NOT NA\n",
        "df = df.na.drop(thresh=2)\n",
        "# drop all rows where any value at specific columns are NAs.\n",
        "df = df.na.drop(how='any', subset=['age','sex']) # 'any' is the defult"
      ]
    },
    {
      "cell_type": "code",
      "execution_count": null,
      "metadata": {
        "id": "hALd4oEmnm7X"
      },
      "outputs": [],
      "source": [
        "# fill missing values in a specific column with a '?'\n",
        "df = df.na.fill(value='?',subset=['sex'])\n",
        "# replace NAs with mean of column\n",
        "from pyspark.ml.feature import Imputer # In statistics, imputation is the process of\n",
        "                                       # replacing missing data with substituted values\n",
        "imptr = Imputer(inputCols=['age','RestingBP'],\n",
        "                outputCols=['age','RestingBP']).setStrategy('mean') # can also be 'median' and so on\n",
        "\n",
        "df = imptr.fit(df).transform(df)"
      ]
    },
    {
      "cell_type": "code",
      "execution_count": null,
      "metadata": {
        "id": "pPxWEU5Wnm7Y"
      },
      "outputs": [],
      "source": [
        "# filter to adults only and calculate mean\n",
        "df.filter('age > 18')\n",
        "df.where('age > 18')# 'where' is an alias to 'filter'\n",
        "df.where(df['age'] > 18) # third option\n",
        "# add another condition ('&' means and, '|' means or)\n",
        "df.where((df['age'] > 18) | (df['ChestPainType'] == 'ATA'))\n",
        "# take every record where the 'ChestPainType' is NOT 'ATA'\n",
        "df.filter(~(df['ChestPainType'] == 'ATA'))"
      ]
    },
    {
      "cell_type": "code",
      "execution_count": null,
      "metadata": {
        "id": "8Z3XTv-knm7Z"
      },
      "outputs": [],
      "source": [
        "df.filter('age > 18').show()"
      ]
    },
    {
      "cell_type": "code",
      "execution_count": null,
      "metadata": {
        "id": "gxxoomSFnm7Z"
      },
      "outputs": [],
      "source": [
        "# evaluate a string expression into command\n",
        "from pyspark.sql.functions import expr\n",
        "exp = 'age + 0.2 * AgeFixed'\n",
        "df.withColumn('new_col', expr(exp)).select('new_col').show(3)"
      ]
    },
    {
      "cell_type": "code",
      "execution_count": null,
      "metadata": {
        "id": "79zIIFjnnm7Z"
      },
      "outputs": [],
      "source": [
        "# group by age\n",
        "disease_by_age = df.groupby('age').mean().select(['age','avg(HeartDisease)'])\n",
        "# sort values in desnding order\n",
        "from pyspark.sql.functions import desc\n",
        "disease_by_age.orderBy(desc(\"age\")).show(5)"
      ]
    },
    {
      "cell_type": "code",
      "execution_count": null,
      "metadata": {
        "id": "tJ9aOfp7nm7a"
      },
      "outputs": [],
      "source": [
        "from pyspark.sql.functions import asc\n",
        "disease_by_age = df.groupby('age').mean().select(['age','avg(HeartDisease)'])\n",
        "disease_by_age.orderBy(desc(\"age\")).show(3)"
      ]
    },
    {
      "cell_type": "code",
      "execution_count": null,
      "metadata": {
        "id": "h4cPM66enm7a"
      },
      "outputs": [],
      "source": [
        "# aggregate to get several statistics for several columns\n",
        "# the available aggregate functions are avg, max, min, sum, count\n",
        "from pyspark.sql import functions as F\n",
        "df.agg(F.min(df['age']),F.max(df['age']),F.avg(df['sex'])).show()"
      ]
    },
    {
      "cell_type": "code",
      "execution_count": null,
      "metadata": {
        "id": "6lFF7nM_nm7b"
      },
      "outputs": [],
      "source": [
        "df.groupby('HeartDisease').agg(F.min(df['age']),F.avg(df['sex'])).show()"
      ]
    },
    {
      "cell_type": "code",
      "execution_count": null,
      "metadata": {
        "scrolled": true,
        "id": "W8EumKJ3nm7b"
      },
      "outputs": [],
      "source": [
        "# run an SQL query on the data\n",
        "df.createOrReplaceTempView(\"df\") # tell PySpark how the table will be called in the SQL query\n",
        "spark.sql(\"\"\"SELECT sex from df\"\"\").show(2)\n",
        "\n",
        "# we also choose columns using SQL sytnx, with a command that combins '.select()' and '.sql()'\n",
        "df.selectExpr(\"age >= 40 as older\", \"age\").show(2)"
      ]
    },
    {
      "cell_type": "code",
      "execution_count": null,
      "metadata": {
        "id": "_nZBU6gQnm7b"
      },
      "outputs": [],
      "source": [
        "df.groupby('age').pivot('sex', (\"M\", \"F\")).count().show(3)›››"
      ]
    },
    {
      "cell_type": "code",
      "execution_count": null,
      "metadata": {
        "id": "0Al-IwPpnm7c"
      },
      "outputs": [],
      "source": [
        "# pivot - expensive operation\n",
        "df.selectExpr(\"age >= 40 as older\", \"age\",'sex').groupBy(\"sex\")\\\n",
        "                    .pivot(\"older\", (\"true\", \"false\")).count().show()"
      ]
    },
    {
      "cell_type": "code",
      "execution_count": null,
      "metadata": {
        "id": "JKRPInXynm7c"
      },
      "outputs": [],
      "source": [
        "df.select(['age','MaxHR','Cholesterol']).show(4)"
      ]
    }
  ],
  "metadata": {
    "kernelspec": {
      "display_name": "Python 3",
      "language": "python",
      "name": "python3"
    },
    "language_info": {
      "codemirror_mode": {
        "name": "ipython",
        "version": 3
      },
      "file_extension": ".py",
      "mimetype": "text/x-python",
      "name": "python",
      "nbconvert_exporter": "python",
      "pygments_lexer": "ipython3",
      "version": "3.7.6"
    },
    "colab": {
      "provenance": [],
      "toc_visible": true
    }
  },
  "nbformat": 4,
  "nbformat_minor": 0
}