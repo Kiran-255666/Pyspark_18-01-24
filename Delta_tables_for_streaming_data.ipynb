{
  "cells": [
    {
      "cell_type": "markdown",
      "metadata": {
        "application/vnd.databricks.v1+cell": {
          "cellMetadata": {},
          "inputWidgets": {},
          "nuid": "3d2b9bb7-2fe2-43d5-ba71-339f3aab68a1",
          "showTitle": false,
          "title": ""
        },
        "id": "u0FoxjbCod-q"
      },
      "source": [
        "## Use delta tables for streaming data\n",
        "\n",
        "Delta lake supports streaming data. Delta tables can be a *sink* or a *source* for data streams created using the Spark Structured Streaming API. In this example, you'll use a delta table as a sink for some streaming data in a simulated internet of things (IoT) scenario.\n",
        "\n",
        "First, let's get some simulated device data in JSON format. Run the following cell to download a JSON file that looks like this:\n",
        "\n",
        "```json\n",
        "{\"device\":\"Dev1\",\"status\":\"ok\"}\n",
        "{\"device\":\"Dev1\",\"status\":\"ok\"}\n",
        "{\"device\":\"Dev1\",\"status\":\"ok\"}\n",
        "{\"device\":\"Dev2\",\"status\":\"error\"}\n",
        "{\"device\":\"Dev1\",\"status\":\"ok\"}\n",
        "{\"device\":\"Dev1\",\"status\":\"error\"}\n",
        "{\"device\":\"Dev2\",\"status\":\"ok\"}\n",
        "{\"device\":\"Dev2\",\"status\":\"error\"}\n",
        "{\"device\":\"Dev1\",\"status\":\"ok\"}\n",
        "```"
      ]
    },
    {
      "cell_type": "code",
      "execution_count": null,
      "metadata": {
        "application/vnd.databricks.v1+cell": {
          "cellMetadata": {},
          "inputWidgets": {},
          "nuid": "e5f1b5e4-5754-498e-b36f-09f9d7e310ae",
          "showTitle": false,
          "title": ""
        },
        "id": "314TF3gzod-q"
      },
      "outputs": [],
      "source": [
        "%sh\n",
        "rm -r /dbfs/device_stream\n",
        "mkdir /dbfs/device_stream\n",
        "wget -O /dbfs/device_stream/devices1.json https://raw.githubusercontent.com/Kiran-255666/Pyspark_18-01-24/main/devices1.json\n"
      ]
    },
    {
      "cell_type": "markdown",
      "metadata": {
        "application/vnd.databricks.v1+cell": {
          "cellMetadata": {},
          "inputWidgets": {},
          "nuid": "03ed4dce-1138-4040-80c2-366e53500e6b",
          "showTitle": false,
          "title": ""
        },
        "id": "Lh8bXNlGod-r"
      },
      "source": [
        "Now you're ready to use Spark Structured Steraming to create a stream based on the folder containing the JSON device data."
      ]
    },
    {
      "cell_type": "code",
      "execution_count": null,
      "metadata": {
        "application/vnd.databricks.v1+cell": {
          "cellMetadata": {},
          "inputWidgets": {},
          "nuid": "cbe13007-95c6-454f-8762-b17e67d80abd",
          "showTitle": false,
          "title": ""
        },
        "id": "u4UGkvjEod-r"
      },
      "outputs": [],
      "source": [
        "from pyspark.sql.types import *\n",
        "from pyspark.sql.functions import *\n",
        "\n",
        "# Create a stream that reads data from the folder, using a JSON schema\n",
        "inputPath = '/device_stream/'\n",
        "jsonSchema = StructType([\n",
        "StructField(\"device\", StringType(), False),\n",
        "StructField(\"status\", StringType(), False)\n",
        "])\n",
        "iotstream = spark.readStream.schema(jsonSchema).option(\"maxFilesPerTrigger\", 1).json(inputPath)\n",
        "print(\"Source stream created...\")"
      ]
    },
    {
      "cell_type": "markdown",
      "metadata": {
        "application/vnd.databricks.v1+cell": {
          "cellMetadata": {},
          "inputWidgets": {},
          "nuid": "5195a7ad-d632-4b0d-b2e0-ada404b950d7",
          "showTitle": false,
          "title": ""
        },
        "id": "rrTRkaarod-s"
      },
      "source": [
        "Now you'll take the stream of data you're reading from the folder, and perpetually write it to a delta table folder:"
      ]
    },
    {
      "cell_type": "code",
      "execution_count": null,
      "metadata": {
        "application/vnd.databricks.v1+cell": {
          "cellMetadata": {},
          "inputWidgets": {},
          "nuid": "7113df46-d34b-4975-881f-dd1af62b2b88",
          "showTitle": false,
          "title": ""
        },
        "id": "3q9MBIzTod-s"
      },
      "outputs": [],
      "source": [
        "# Write the stream to a delta table\n",
        "delta_stream_table_path = '/delta/iotdevicedata'\n",
        "checkpointpath = '/delta/checkpoint'\n",
        "deltastream = iotstream.writeStream.format(\"delta\").option(\"checkpointLocation\", checkpointpath).start(delta_stream_table_path)\n",
        "print(\"Streaming to delta sink...\")"
      ]
    },
    {
      "cell_type": "markdown",
      "metadata": {
        "application/vnd.databricks.v1+cell": {
          "cellMetadata": {},
          "inputWidgets": {},
          "nuid": "1c8ed435-ad19-4517-a93c-d0d95f32abfc",
          "showTitle": false,
          "title": ""
        },
        "id": "Rjp5WlOOod-t"
      },
      "source": [
        "To load the streamed table data, just read the delta table folder source like any other dataframe:"
      ]
    },
    {
      "cell_type": "code",
      "execution_count": null,
      "metadata": {
        "application/vnd.databricks.v1+cell": {
          "cellMetadata": {},
          "inputWidgets": {},
          "nuid": "4d3e5d71-1f57-4c7d-a6ea-586c3386ee48",
          "showTitle": false,
          "title": ""
        },
        "id": "jA--O6XVod-t"
      },
      "outputs": [],
      "source": [
        "# Read the data in delta format into a dataframe\n",
        "df = spark.read.format(\"delta\").load(delta_stream_table_path)\n",
        "display(df)"
      ]
    },
    {
      "cell_type": "markdown",
      "metadata": {
        "application/vnd.databricks.v1+cell": {
          "cellMetadata": {},
          "inputWidgets": {},
          "nuid": "827a4c99-da37-43e3-bb8d-f45ea2b201a7",
          "showTitle": false,
          "title": ""
        },
        "id": "Ko5dlJsHod-v"
      },
      "source": [
        "You can also create a table based on the streaming delta table folder:"
      ]
    },
    {
      "cell_type": "code",
      "execution_count": null,
      "metadata": {
        "application/vnd.databricks.v1+cell": {
          "cellMetadata": {},
          "inputWidgets": {},
          "nuid": "6409e50a-3950-4ef9-ab06-88e40d79b2fb",
          "showTitle": false,
          "title": ""
        },
        "id": "5ppkE3I7od-w"
      },
      "outputs": [],
      "source": [
        "# create a catalog table based on the streaming sink\n",
        "spark.sql(\"CREATE TABLE IotDeviceData USING DELTA LOCATION '{0}'\".format(delta_stream_table_path))"
      ]
    },
    {
      "cell_type": "markdown",
      "metadata": {
        "application/vnd.databricks.v1+cell": {
          "cellMetadata": {},
          "inputWidgets": {},
          "nuid": "5db839b8-481f-455c-8dc7-d42bcad7b616",
          "showTitle": false,
          "title": ""
        },
        "id": "ZplWsWMNod-w"
      },
      "source": [
        "You can query the table just like any other:"
      ]
    },
    {
      "cell_type": "code",
      "execution_count": null,
      "metadata": {
        "application/vnd.databricks.v1+cell": {
          "cellMetadata": {},
          "inputWidgets": {},
          "nuid": "368f1697-7877-486c-9aa4-f5c675928121",
          "showTitle": false,
          "title": ""
        },
        "id": "OJkOWVIOod-w"
      },
      "outputs": [],
      "source": [
        "%sql\n",
        "SELECT * FROM IotDeviceData;"
      ]
    },
    {
      "cell_type": "markdown",
      "metadata": {
        "application/vnd.databricks.v1+cell": {
          "cellMetadata": {},
          "inputWidgets": {},
          "nuid": "ad282c03-0bcf-4832-acf4-9c023d0e22cd",
          "showTitle": false,
          "title": ""
        },
        "id": "Ze_7LU9God-x"
      },
      "source": [
        "Now let's add some fresh device data to the stream."
      ]
    },
    {
      "cell_type": "code",
      "execution_count": null,
      "metadata": {
        "application/vnd.databricks.v1+cell": {
          "cellMetadata": {},
          "inputWidgets": {},
          "nuid": "c5439c7b-cbb3-4695-9d9b-9f74bd4fb3aa",
          "showTitle": false,
          "title": ""
        },
        "id": "vO9Bbtnlod-y"
      },
      "outputs": [],
      "source": [
        "%sh\n",
        "wget -O /dbfs/device_stream/devices2.json https://raw.githubusercontent.com/Kiran-255666/Pyspark_18-01-24/main/devices2.json"
      ]
    },
    {
      "cell_type": "markdown",
      "metadata": {
        "application/vnd.databricks.v1+cell": {
          "cellMetadata": {},
          "inputWidgets": {},
          "nuid": "35410a64-0fd1-4581-8fb6-9900534001da",
          "showTitle": false,
          "title": ""
        },
        "id": "Wcea07qRod-y"
      },
      "source": [
        "The new JSON data in the device folder is read into the stream and written to the delta folder, where it is reflected in the table:"
      ]
    },
    {
      "cell_type": "code",
      "execution_count": null,
      "metadata": {
        "application/vnd.databricks.v1+cell": {
          "cellMetadata": {},
          "inputWidgets": {},
          "nuid": "a2e52f25-0bf5-4ada-ae30-52a9445a7c1c",
          "showTitle": false,
          "title": ""
        },
        "id": "iPXxSR1Mod-z"
      },
      "outputs": [],
      "source": [
        "%sql\n",
        "SELECT * FROM IotDeviceData;"
      ]
    },
    {
      "cell_type": "markdown",
      "metadata": {
        "application/vnd.databricks.v1+cell": {
          "cellMetadata": {},
          "inputWidgets": {},
          "nuid": "ebbff25f-f1b4-4a77-bac1-c17201ce4a3b",
          "showTitle": false,
          "title": ""
        },
        "id": "k-YUgx8eod-z"
      },
      "source": [
        "To stop the stream, use its **stop** method:"
      ]
    },
    {
      "cell_type": "code",
      "execution_count": null,
      "metadata": {
        "application/vnd.databricks.v1+cell": {
          "cellMetadata": {},
          "inputWidgets": {},
          "nuid": "0daabdea-3cb7-4768-bb6b-1f4051a61284",
          "showTitle": false,
          "title": ""
        },
        "id": "k_KMa5l3od-z"
      },
      "outputs": [],
      "source": [
        "deltastream.stop()"
      ]
    }
  ],
  "metadata": {
    "application/vnd.databricks.v1+notebook": {
      "dashboards": [],
      "language": "python",
      "notebookMetadata": {
        "mostRecentlyExecutedCommandWithImplicitDF": {
          "commandId": 40906316530392,
          "dataframes": [
            "_sqldf"
          ]
        },
        "pythonIndentUnit": 4
      },
      "notebookName": "Delta-Lake",
      "widgets": {}
    },
    "language_info": {
      "name": "python"
    },
    "colab": {
      "provenance": []
    }
  },
  "nbformat": 4,
  "nbformat_minor": 0
}