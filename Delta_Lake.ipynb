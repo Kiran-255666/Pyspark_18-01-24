{
  "cells": [
    {
      "cell_type": "markdown",
      "metadata": {
        "application/vnd.databricks.v1+cell": {
          "cellMetadata": {},
          "inputWidgets": {},
          "nuid": "bd65ba90-2574-461f-9083-0b9b9b6efd92",
          "showTitle": false,
          "title": ""
        },
        "id": "0sSUaNIki14H"
      },
      "source": [
        "# Explore Delta Lake\n",
        "\n",
        "In this notebook, you'll explore how to use Delta Lake in a Databricks Spark cluster.\n",
        "\n",
        "## Ingest data\n",
        "\n",
        "Use the **&#9656; Run Cell** menu option at the top-right of the following cell to run it and download a data file into the Databricks file system (DBFS)."
      ]
    },
    {
      "cell_type": "code",
      "execution_count": null,
      "metadata": {
        "application/vnd.databricks.v1+cell": {
          "cellMetadata": {
            "byteLimit": 2048000,
            "rowLimit": 10000
          },
          "inputWidgets": {},
          "nuid": "5f4da022-9631-48a7-9835-2bb40f442c1d",
          "showTitle": false,
          "title": ""
        },
        "id": "E5K7oK4Qi14K"
      },
      "outputs": [],
      "source": [
        "%sh\n",
        "rm -r /dbfs/data\n",
        "rm -r /dbfs/delta\n",
        "mkdir /dbfs/data\n",
        "wget -O /dbfs/data/products.csv https://raw.githubusercontent.com/MicrosoftLearning/dp-203-azure-data-engineer/master/Allfiles/labs/25/data/products.csv"
      ]
    },
    {
      "cell_type": "markdown",
      "metadata": {
        "application/vnd.databricks.v1+cell": {
          "cellMetadata": {},
          "inputWidgets": {},
          "nuid": "7ec1d7d0-ff8b-43eb-9a2a-e06d263e526e",
          "showTitle": false,
          "title": ""
        },
        "id": "vXHMVn2ci14N"
      },
      "source": [
        "Now that you've ingested the data, you can load it into a Spark dataframe from the Databricks file system (DBFS)"
      ]
    },
    {
      "cell_type": "code",
      "execution_count": null,
      "metadata": {
        "application/vnd.databricks.v1+cell": {
          "cellMetadata": {
            "byteLimit": 2048000,
            "rowLimit": 10000
          },
          "inputWidgets": {},
          "nuid": "e17ea6fd-5c0c-4d5a-acc4-855ab5c9acb6",
          "showTitle": false,
          "title": ""
        },
        "id": "iWbsVKGii14N"
      },
      "outputs": [],
      "source": [
        "df = spark.read.load('/data/products.csv', format='csv', header=True)\n",
        "display(df.limit(10))"
      ]
    },
    {
      "cell_type": "markdown",
      "metadata": {
        "application/vnd.databricks.v1+cell": {
          "cellMetadata": {},
          "inputWidgets": {},
          "nuid": "47bcfa9b-355f-4147-854b-08597c467f3d",
          "showTitle": false,
          "title": ""
        },
        "id": "3T_oHTbQi14O"
      },
      "source": [
        "## Load the file data into a delta table\n",
        "\n",
        "You can persist the data in the dataframe in Delta format using the following code:"
      ]
    },
    {
      "cell_type": "code",
      "execution_count": null,
      "metadata": {
        "application/vnd.databricks.v1+cell": {
          "cellMetadata": {
            "byteLimit": 2048000,
            "rowLimit": 10000
          },
          "inputWidgets": {},
          "nuid": "f8b91449-0aaf-4205-a07f-c7ef079c3dc3",
          "showTitle": false,
          "title": ""
        },
        "id": "8h8QMwGfi14P"
      },
      "outputs": [],
      "source": [
        "delta_table_path = \"/delta/products-delta\"\n",
        "df.write.format(\"delta\").save(delta_table_path)"
      ]
    },
    {
      "cell_type": "markdown",
      "metadata": {
        "application/vnd.databricks.v1+cell": {
          "cellMetadata": {},
          "inputWidgets": {},
          "nuid": "6e9786b2-8f2c-4459-ad85-51bccaa8b486",
          "showTitle": false,
          "title": ""
        },
        "id": "TBbmx573i14P"
      },
      "source": [
        "The data for a delta lake table is stored in Parquet format. A log file is also created to track modifications made to the data.\n",
        "\n",
        "Use the following shell commands to view the contents of the folder where the delta data has been saved."
      ]
    },
    {
      "cell_type": "code",
      "execution_count": null,
      "metadata": {
        "application/vnd.databricks.v1+cell": {
          "cellMetadata": {
            "byteLimit": 2048000,
            "rowLimit": 10000
          },
          "inputWidgets": {},
          "nuid": "66c68965-26b6-421d-8e40-af67ddf2cad7",
          "showTitle": false,
          "title": ""
        },
        "id": "tW0-4J_yi14P"
      },
      "outputs": [],
      "source": [
        "%sh\n",
        "ls /dbfs/delta/products-delta"
      ]
    },
    {
      "cell_type": "markdown",
      "metadata": {
        "application/vnd.databricks.v1+cell": {
          "cellMetadata": {},
          "inputWidgets": {},
          "nuid": "8031259b-45e8-4368-a2fc-4cbd6276c37d",
          "showTitle": false,
          "title": ""
        },
        "id": "cTdjH3EPi14Q"
      },
      "source": [
        "The file data in Delta format can be loaded into a **DeltaTable** object, which you can use to view and update the data in the table. Run the following cell to update the data; reducing the price of product 771 by 10%."
      ]
    },
    {
      "cell_type": "code",
      "execution_count": null,
      "metadata": {
        "application/vnd.databricks.v1+cell": {
          "cellMetadata": {
            "byteLimit": 2048000,
            "rowLimit": 10000
          },
          "inputWidgets": {},
          "nuid": "9c8c0b59-3426-4273-8ba6-a2cd3c1da897",
          "showTitle": false,
          "title": ""
        },
        "id": "sJsP8GlJi14Q"
      },
      "outputs": [],
      "source": [
        "from delta.tables import *\n",
        "from pyspark.sql.functions import *\n",
        "\n",
        "# Create a deltaTable object\n",
        "deltaTable = DeltaTable.forPath(spark, delta_table_path)\n",
        "\n",
        "# Update the table (reduce price of product 771 by 10%)\n",
        "deltaTable.update(\n",
        "    condition = \"ProductID == 771\",\n",
        "    set = { \"ListPrice\": \"ListPrice * 0.9\" })\n",
        "\n",
        "# View the updated data as a dataframe\n",
        "deltaTable.toDF().show(10)"
      ]
    },
    {
      "cell_type": "markdown",
      "metadata": {
        "application/vnd.databricks.v1+cell": {
          "cellMetadata": {},
          "inputWidgets": {},
          "nuid": "a2b15ba3-9da3-40da-9124-9362e66f0e3a",
          "showTitle": false,
          "title": ""
        },
        "id": "jVjvjgMsi14Q"
      },
      "source": [
        "The update is persisted to the data in the delta folder, and will be reflected in any new dataframe loaded from that location:"
      ]
    },
    {
      "cell_type": "code",
      "execution_count": null,
      "metadata": {
        "application/vnd.databricks.v1+cell": {
          "cellMetadata": {
            "byteLimit": 2048000,
            "rowLimit": 10000
          },
          "inputWidgets": {},
          "nuid": "9ef3494d-b558-4292-be25-2f60cce6fdcf",
          "showTitle": false,
          "title": ""
        },
        "id": "WjVAAtv7i14R"
      },
      "outputs": [],
      "source": [
        "new_df = spark.read.format(\"delta\").load(delta_table_path)\n",
        "new_df.show(10)"
      ]
    },
    {
      "cell_type": "markdown",
      "metadata": {
        "application/vnd.databricks.v1+cell": {
          "cellMetadata": {},
          "inputWidgets": {},
          "nuid": "aa87deb7-6a24-42ec-b116-606ddc850cec",
          "showTitle": false,
          "title": ""
        },
        "id": "ad99YcxCi14R"
      },
      "source": [
        "Data modifications are logged, enabling you to use the *time-travel* capabilities of Delta Lake to view previous versions of the data. For example, use the following code to view the original version of the product data:"
      ]
    },
    {
      "cell_type": "code",
      "execution_count": null,
      "metadata": {
        "application/vnd.databricks.v1+cell": {
          "cellMetadata": {},
          "inputWidgets": {},
          "nuid": "48215e8f-7435-40ec-9cf1-e710c5388f3a",
          "showTitle": false,
          "title": ""
        },
        "id": "iWW42en5i14S"
      },
      "outputs": [],
      "source": [
        "new_df = spark.read.format(\"delta\").option(\"versionAsOf\", 0).load(delta_table_path)\n",
        "new_df.show(10)"
      ]
    },
    {
      "cell_type": "markdown",
      "metadata": {
        "application/vnd.databricks.v1+cell": {
          "cellMetadata": {},
          "inputWidgets": {},
          "nuid": "baa34439-1934-4589-bbcd-3c10bfad691f",
          "showTitle": false,
          "title": ""
        },
        "id": "9T5Z4A6bi14T"
      },
      "source": [
        "The log contains a full history of modifications to the data. Use the following code to see a record of the last 10 changes:"
      ]
    },
    {
      "cell_type": "code",
      "execution_count": null,
      "metadata": {
        "application/vnd.databricks.v1+cell": {
          "cellMetadata": {},
          "inputWidgets": {},
          "nuid": "e820df48-2483-454b-89ae-be51cdd40470",
          "showTitle": false,
          "title": ""
        },
        "id": "GxlWHRHKi14T"
      },
      "outputs": [],
      "source": [
        "deltaTable.history(10).show(10, False, True)"
      ]
    },
    {
      "cell_type": "markdown",
      "metadata": {
        "application/vnd.databricks.v1+cell": {
          "cellMetadata": {},
          "inputWidgets": {},
          "nuid": "3341a47a-f2a4-4dbf-be08-6753563d9dd0",
          "showTitle": false,
          "title": ""
        },
        "id": "Ri1ZJa3ei14U"
      },
      "source": [
        "## Create catalog tables\n",
        "\n",
        "So far you've worked with delta tables by loading data from the folder containing the parquet files on which the table is based. You can define *catalog tables* that encapsulate the data and provide a named table entity that you can reference in SQL code. Spark supports two kinds of catalog tables for delta lake:\n",
        "\n",
        "- *External* tables that are defined by the path to the parquet files containing the table data.\n",
        "- *Managed* tables, that are defined in the Hive metastore for the Spark cluster\n",
        "\n",
        "### Create an external table\n",
        "\n",
        "The following code creates a new database named **AdventureWorks** and then creates an external tabled named **ProductsExternal** in that database based on the path to the Delta files you defined previously."
      ]
    },
    {
      "cell_type": "code",
      "execution_count": null,
      "metadata": {
        "application/vnd.databricks.v1+cell": {
          "cellMetadata": {},
          "inputWidgets": {},
          "nuid": "8d54592d-0818-44be-a2b6-3a3a70e06e14",
          "showTitle": false,
          "title": ""
        },
        "id": "BRf3Mu3xi14U"
      },
      "outputs": [],
      "source": [
        "spark.sql(\"CREATE DATABASE AdventureWorks\")\n",
        "spark.sql(\"CREATE TABLE AdventureWorks.ProductsExternal USING DELTA LOCATION '{0}'\".format(delta_table_path))\n",
        "spark.sql(\"DESCRIBE EXTENDED AdventureWorks.ProductsExternal\").show(truncate=False)"
      ]
    },
    {
      "cell_type": "markdown",
      "metadata": {
        "application/vnd.databricks.v1+cell": {
          "cellMetadata": {},
          "inputWidgets": {},
          "nuid": "06df3d0a-94d6-43a7-bc8e-bdd243fd3c29",
          "showTitle": false,
          "title": ""
        },
        "id": "k8u1VvlZi14V"
      },
      "source": [
        "Note that the **Location** property of the new table is the path you specified.\n",
        "\n",
        "You can query the new table by using a SQL `SELECT` statement, like this:"
      ]
    },
    {
      "cell_type": "code",
      "execution_count": null,
      "metadata": {
        "application/vnd.databricks.v1+cell": {
          "cellMetadata": {},
          "inputWidgets": {},
          "nuid": "bf082860-c29c-4a1b-9a29-9894661b6cdc",
          "showTitle": false,
          "title": ""
        },
        "id": "-rRLALaPi14V"
      },
      "outputs": [],
      "source": [
        "%sql\n",
        "USE AdventureWorks;\n",
        "\n",
        "SELECT * FROM ProductsExternal;"
      ]
    },
    {
      "cell_type": "markdown",
      "metadata": {
        "application/vnd.databricks.v1+cell": {
          "cellMetadata": {},
          "inputWidgets": {},
          "nuid": "d25721a1-8ba5-4487-8aab-308423a05fc9",
          "showTitle": false,
          "title": ""
        },
        "id": "PDjLo8l8i14W"
      },
      "source": [
        "### Create a managed table\n",
        "\n",
        "A *managed* table stores its data files in the Hive metastore for the Spark cluster.\n",
        "\n",
        "Run the following code to create (and then describe) a managed tabled named **ProductsManaged** based on the dataframe you originally loaded from the **products.csv** file (before you updated the price of product 771)."
      ]
    },
    {
      "cell_type": "code",
      "execution_count": null,
      "metadata": {
        "application/vnd.databricks.v1+cell": {
          "cellMetadata": {},
          "inputWidgets": {},
          "nuid": "04b73c5e-4309-41b6-b20c-d9127668790c",
          "showTitle": false,
          "title": ""
        },
        "id": "C-hd2_3Wi14W"
      },
      "outputs": [],
      "source": [
        "df.write.format(\"delta\").saveAsTable(\"AdventureWorks.ProductsManaged\")\n",
        "spark.sql(\"DESCRIBE EXTENDED AdventureWorks.ProductsManaged\").show(truncate=False)"
      ]
    },
    {
      "cell_type": "markdown",
      "metadata": {
        "application/vnd.databricks.v1+cell": {
          "cellMetadata": {},
          "inputWidgets": {},
          "nuid": "f554a23b-d628-49ce-b01d-22c7fd771b77",
          "showTitle": false,
          "title": ""
        },
        "id": "23w0zpTki14W"
      },
      "source": [
        "You did not specify a path for the parquet files used by the table - this is managed for you in the Hive metastore, and shown in the **Location** property in the table description (in the **dbfs:/user/hive/warehouse/** path).\n",
        "\n",
        "From the SQL user's perspective, there's no difference between external and managed tables when it comes to querying them with a `SELECT` statement:"
      ]
    },
    {
      "cell_type": "code",
      "execution_count": null,
      "metadata": {
        "application/vnd.databricks.v1+cell": {
          "cellMetadata": {},
          "inputWidgets": {},
          "nuid": "341b2f1a-7f15-4391-b71b-5e2846b8d73f",
          "showTitle": false,
          "title": ""
        },
        "id": "ua_QYIg7i14X"
      },
      "outputs": [],
      "source": [
        "%sql\n",
        "USE AdventureWorks;\n",
        "\n",
        "SELECT * FROM ProductsManaged;"
      ]
    },
    {
      "cell_type": "markdown",
      "metadata": {
        "application/vnd.databricks.v1+cell": {
          "cellMetadata": {},
          "inputWidgets": {},
          "nuid": "71079a2e-20db-4c96-9d3a-61624412919e",
          "showTitle": false,
          "title": ""
        },
        "id": "FYU1mKYni14X"
      },
      "source": [
        "### Compare external and managed tables\n",
        "\n",
        "let's explore the differences between external and managed tables.\n",
        "\n",
        "First, use the following code to list the tables in the **AdventureWorks** database:"
      ]
    },
    {
      "cell_type": "code",
      "execution_count": null,
      "metadata": {
        "application/vnd.databricks.v1+cell": {
          "cellMetadata": {},
          "inputWidgets": {},
          "nuid": "3d4eaf84-b645-4502-8166-b40bfcf88386",
          "showTitle": false,
          "title": ""
        },
        "id": "YhLA8n0vi14X"
      },
      "outputs": [],
      "source": [
        "%sql\n",
        "USE AdventureWorks;\n",
        "\n",
        "SHOW TABLES;"
      ]
    },
    {
      "cell_type": "markdown",
      "metadata": {
        "application/vnd.databricks.v1+cell": {
          "cellMetadata": {},
          "inputWidgets": {},
          "nuid": "e3b82f23-d031-4979-8842-77b0b3d2d9b5",
          "showTitle": false,
          "title": ""
        },
        "id": "-fDxbx1ri14Y"
      },
      "source": [
        "Now let's take a look at the folders on which these tables are based:"
      ]
    },
    {
      "cell_type": "code",
      "execution_count": null,
      "metadata": {
        "application/vnd.databricks.v1+cell": {
          "cellMetadata": {},
          "inputWidgets": {},
          "nuid": "8df8da51-4949-45b7-aa39-8d44c92c2db7",
          "showTitle": false,
          "title": ""
        },
        "id": "Or6UkuLJi14Y"
      },
      "outputs": [],
      "source": [
        "%sh\n",
        "echo \"External table:\"\n",
        "ls /dbfs/delta/products-delta\n",
        "echo\n",
        "echo \"Managed table:\"\n",
        "ls /dbfs/user/hive/warehouse/adventureworks.db/productsmanaged"
      ]
    },
    {
      "cell_type": "markdown",
      "metadata": {
        "application/vnd.databricks.v1+cell": {
          "cellMetadata": {},
          "inputWidgets": {},
          "nuid": "69e77412-88ec-42d7-8207-e8d419e98b39",
          "showTitle": false,
          "title": ""
        },
        "id": "n74lGgdKi14Y"
      },
      "source": [
        "What happens if we use a `DROP` statement to delete these tables from the database?"
      ]
    },
    {
      "cell_type": "code",
      "execution_count": null,
      "metadata": {
        "application/vnd.databricks.v1+cell": {
          "cellMetadata": {},
          "inputWidgets": {},
          "nuid": "b4fe298f-b1e1-4a07-ae99-0e6b684356f6",
          "showTitle": false,
          "title": ""
        },
        "id": "ZDXDDFAmi14Z"
      },
      "outputs": [],
      "source": [
        "%sql\n",
        "\n",
        "USE AdventureWorks;\n",
        "\n",
        "DROP TABLE IF EXISTS ProductsExternal;\n",
        "DROP TABLE IF EXISTS ProductsManaged;\n",
        "\n",
        "SHOW TABLES;"
      ]
    },
    {
      "cell_type": "markdown",
      "metadata": {
        "application/vnd.databricks.v1+cell": {
          "cellMetadata": {},
          "inputWidgets": {},
          "nuid": "65c4770f-a6d6-4bd2-81b7-4874d2306596",
          "showTitle": false,
          "title": ""
        },
        "id": "zNBCwigVi14Z"
      },
      "source": [
        "The metadata for both tables has been removed from the database; but what about the delta files?"
      ]
    },
    {
      "cell_type": "code",
      "execution_count": null,
      "metadata": {
        "application/vnd.databricks.v1+cell": {
          "cellMetadata": {},
          "inputWidgets": {},
          "nuid": "c9ced79f-f7d8-452d-8e05-497af3efaef0",
          "showTitle": false,
          "title": ""
        },
        "id": "sohd9YByi14Z"
      },
      "outputs": [],
      "source": [
        "%sh\n",
        "echo \"External table:\"\n",
        "ls /dbfs/delta/products-delta\n",
        "echo\n",
        "echo \"Managed table:\"\n",
        "ls /dbfs/user/hive/warehouse/adventureworks.db/productsmanaged"
      ]
    },
    {
      "cell_type": "markdown",
      "metadata": {
        "application/vnd.databricks.v1+cell": {
          "cellMetadata": {},
          "inputWidgets": {},
          "nuid": "a65f3f04-87fe-4c26-8854-f78d98cd21c2",
          "showTitle": false,
          "title": ""
        },
        "id": "5Ax-0Vroi14a"
      },
      "source": [
        "The files for the managed table are deleted automatically when the table is dropped. However, the files for the external table remain. Dropping an external table only removes the table metadata from the database; it does not delete the data files.\n",
        "\n",
        "You can use the following code to create a new table in the database that is based on the delta files in the **products-delta** folder:"
      ]
    },
    {
      "cell_type": "code",
      "execution_count": null,
      "metadata": {
        "application/vnd.databricks.v1+cell": {
          "cellMetadata": {},
          "inputWidgets": {},
          "nuid": "0ae5680a-d328-4a05-b68c-f733a4450d51",
          "showTitle": false,
          "title": ""
        },
        "id": "6K9Su5j9i14b"
      },
      "outputs": [],
      "source": [
        "%sql\n",
        "USE AdventureWorks;\n",
        "\n",
        "CREATE TABLE Products\n",
        "USING DELTA\n",
        "LOCATION '/delta/products-delta';"
      ]
    },
    {
      "cell_type": "markdown",
      "metadata": {
        "application/vnd.databricks.v1+cell": {
          "cellMetadata": {},
          "inputWidgets": {},
          "nuid": "157adb38-09a2-4b84-ac2d-be11005b04b7",
          "showTitle": false,
          "title": ""
        },
        "id": "89oJsNaCi14b"
      },
      "source": [
        "Now you can query the new table"
      ]
    },
    {
      "cell_type": "markdown",
      "source": [],
      "metadata": {
        "id": "9V-_ubyxi-FT"
      }
    },
    {
      "cell_type": "code",
      "execution_count": null,
      "metadata": {
        "application/vnd.databricks.v1+cell": {
          "cellMetadata": {},
          "inputWidgets": {},
          "nuid": "e23883b2-a80c-40c6-81d9-a0d8381fc5a9",
          "showTitle": false,
          "title": ""
        },
        "id": "yWck2rUki14b"
      },
      "outputs": [],
      "source": [
        "%sql\n",
        "USE AdventureWorks;\n",
        "\n",
        "SELECT * FROM Products;"
      ]
    }
  ],
  "metadata": {
    "application/vnd.databricks.v1+notebook": {
      "dashboards": [],
      "language": "python",
      "notebookMetadata": {
        "mostRecentlyExecutedCommandWithImplicitDF": {
          "commandId": 40906316530392,
          "dataframes": [
            "_sqldf"
          ]
        },
        "pythonIndentUnit": 4
      },
      "notebookName": "Delta-Lake",
      "widgets": {}
    },
    "language_info": {
      "name": "python"
    },
    "colab": {
      "provenance": []
    },
    "kernelspec": {
      "name": "python3",
      "display_name": "Python 3"
    }
  },
  "nbformat": 4,
  "nbformat_minor": 0
}