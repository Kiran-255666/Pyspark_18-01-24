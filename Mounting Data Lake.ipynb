{
 "cells": [
  {
   "cell_type": "code",
   "execution_count": 0,
   "metadata": {
    "application/vnd.databricks.v1+cell": {
     "cellMetadata": {
      "byteLimit": 2048000,
      "rowLimit": 10000
     },
     "inputWidgets": {},
     "nuid": "ecad2477-36fd-4f44-a79e-da2f756c74dc",
     "showTitle": false,
     "title": ""
    }
   },
   "outputs": [],
   "source": [
    "#lake = \"wasbs://containername@storagename\""
   ]
  },
  {
   "cell_type": "code",
   "execution_count": 0,
   "metadata": {
    "application/vnd.databricks.v1+cell": {
     "cellMetadata": {
      "byteLimit": 2048000,
      "rowLimit": 10000
     },
     "inputWidgets": {},
     "nuid": "02a2227b-84a6-41cc-a250-c10da568cc49",
     "showTitle": false,
     "title": ""
    }
   },
   "outputs": [
    {
     "output_type": "execute_result",
     "data": {
      "text/plain": [
       "True"
      ]
     },
     "execution_count": 3,
     "metadata": {},
     "output_type": "execute_result"
    }
   ],
   "source": [
    "lake = \"wasbs://lake@lake255666.blob.core.windows.net\"\n",
    "accesskey =\"Gg/iih90uEhQ/TvZJpckQVtxwiHFBfw0IV9VKVlZIBZ81HFpdWQUko8tF26y/L/n1xsX9FWjGcj/+AStzyRD2A==\"\n",
    "\n",
    "\n",
    "dbutils.fs.mount(\n",
    "    source = lake,\n",
    "    mount_point= \"/mnt/lake\",\n",
    "    extra_configs = {\n",
    "        \"fs.azure.account.key.lake255666.blob.core.windows.net\" : accesskey}\n",
    ")\n",
    "\n",
    "#openid/oauth\n",
    "#fs.azure.account.sas"
   ]
  },
  {
   "cell_type": "code",
   "execution_count": 0,
   "metadata": {
    "application/vnd.databricks.v1+cell": {
     "cellMetadata": {
      "byteLimit": 2048000,
      "rowLimit": 10000
     },
     "inputWidgets": {},
     "nuid": "46fe3cd0-7d25-4597-b0aa-1ea5049e6ac0",
     "showTitle": false,
     "title": ""
    }
   },
   "outputs": [
    {
     "output_type": "execute_result",
     "data": {
      "text/plain": [
       "[FileInfo(path='dbfs:/mnt/lake/', name='lake/', size=0, modificationTime=0),\n",
       " FileInfo(path='dbfs:/mnt/training/', name='training/', size=0, modificationTime=0)]"
      ]
     },
     "execution_count": 1,
     "metadata": {},
     "output_type": "execute_result"
    }
   ],
   "source": [
    "dbutils.fs.ls (\"/mnt\")"
   ]
  },
  {
   "cell_type": "code",
   "execution_count": 0,
   "metadata": {
    "application/vnd.databricks.v1+cell": {
     "cellMetadata": {
      "byteLimit": 2048000,
      "rowLimit": 10000
     },
     "inputWidgets": {},
     "nuid": "56df0f99-9f35-4017-aef2-832731191113",
     "showTitle": false,
     "title": ""
    }
   },
   "outputs": [
    {
     "output_type": "execute_result",
     "data": {
      "text/plain": [
       "[FileInfo(path='dbfs:/mnt/lake/data.csv', name='data.csv', size=125206, modificationTime=1708072644000)]"
      ]
     },
     "execution_count": 2,
     "metadata": {},
     "output_type": "execute_result"
    }
   ],
   "source": [
    "dbutils.fs.ls (\"/mnt/lake\")"
   ]
  },
  {
   "cell_type": "code",
   "execution_count": 0,
   "metadata": {
    "application/vnd.databricks.v1+cell": {
     "cellMetadata": {
      "byteLimit": 2048000,
      "rowLimit": 10000
     },
     "inputWidgets": {},
     "nuid": "f0148388-acfe-4603-a72f-6e31246142ea",
     "showTitle": false,
     "title": ""
    }
   },
   "outputs": [
    {
     "output_type": "execute_result",
     "data": {
      "text/html": [
       "\n",
       "            <div>\n",
       "                <p><b>SparkSession - hive</b></p>\n",
       "                \n",
       "        <div>\n",
       "            <p><b>SparkContext</b></p>\n",
       "\n",
       "            <p><a href=\"/?o=8193811296442242#setting/sparkui/0216-090628-wdtf0k6w/driver-6651791787725121446\">Spark UI</a></p>\n",
       "\n",
       "            <dl>\n",
       "              <dt>Version</dt>\n",
       "                <dd><code>v3.4.1</code></dd>\n",
       "              <dt>Master</dt>\n",
       "                <dd><code>local[*, 4]</code></dd>\n",
       "              <dt>AppName</dt>\n",
       "                <dd><code>Databricks Shell</code></dd>\n",
       "            </dl>\n",
       "        </div>\n",
       "        \n",
       "            </div>\n",
       "        "
      ],
      "text/plain": [
       "<pyspark.sql.session.SparkSession at 0x7f3136994ca0>"
      ]
     },
     "execution_count": 3,
     "metadata": {},
     "output_type": "execute_result"
    }
   ],
   "source": [
    "spark"
   ]
  },
  {
   "cell_type": "code",
   "execution_count": 0,
   "metadata": {
    "application/vnd.databricks.v1+cell": {
     "cellMetadata": {
      "byteLimit": 2048000,
      "rowLimit": 10000
     },
     "inputWidgets": {},
     "nuid": "17e136f7-4ee8-407d-a245-a3b5c7e52085",
     "showTitle": false,
     "title": ""
    }
   },
   "outputs": [],
   "source": [
    "myData = spark.read.csv('/mnt/lake/data.csv', header=True, inferSchema=True)"
   ]
  },
  {
   "cell_type": "code",
   "execution_count": 0,
   "metadata": {
    "application/vnd.databricks.v1+cell": {
     "cellMetadata": {
      "byteLimit": 2048000,
      "rowLimit": 10000
     },
     "inputWidgets": {},
     "nuid": "c96d729a-45fb-481b-80cd-115edda014ad",
     "showTitle": false,
     "title": ""
    }
   },
   "outputs": [],
   "source": [
    "results = myData[['diagnosis']]"
   ]
  },
  {
   "cell_type": "code",
   "execution_count": 0,
   "metadata": {
    "application/vnd.databricks.v1+cell": {
     "cellMetadata": {
      "byteLimit": 2048000,
      "rowLimit": 10000
     },
     "inputWidgets": {},
     "nuid": "122fc95a-afd5-4969-9305-ebfa0017e4a9",
     "showTitle": false,
     "title": ""
    }
   },
   "outputs": [
    {
     "output_type": "display_data",
     "data": {
      "text/html": [
       "<style scoped>\n",
       "  .table-result-container {\n",
       "    max-height: 300px;\n",
       "    overflow: auto;\n",
       "  }\n",
       "  table, th, td {\n",
       "    border: 1px solid black;\n",
       "    border-collapse: collapse;\n",
       "  }\n",
       "  th, td {\n",
       "    padding: 5px;\n",
       "  }\n",
       "  th {\n",
       "    text-align: left;\n",
       "  }\n",
       "</style><div class='table-result-container'><table class='table-result'><thead style='background-color: white'><tr><th>diagnosis</th></tr></thead><tbody><tr><td>M</td></tr><tr><td>M</td></tr><tr><td>M</td></tr><tr><td>M</td></tr><tr><td>M</td></tr><tr><td>M</td></tr><tr><td>M</td></tr><tr><td>M</td></tr><tr><td>M</td></tr><tr><td>M</td></tr><tr><td>M</td></tr><tr><td>M</td></tr><tr><td>M</td></tr><tr><td>M</td></tr><tr><td>M</td></tr><tr><td>M</td></tr><tr><td>M</td></tr><tr><td>M</td></tr><tr><td>M</td></tr><tr><td>B</td></tr><tr><td>B</td></tr><tr><td>B</td></tr><tr><td>M</td></tr><tr><td>M</td></tr><tr><td>M</td></tr><tr><td>M</td></tr><tr><td>M</td></tr><tr><td>M</td></tr><tr><td>M</td></tr><tr><td>M</td></tr><tr><td>M</td></tr><tr><td>M</td></tr><tr><td>M</td></tr><tr><td>M</td></tr><tr><td>M</td></tr><tr><td>M</td></tr><tr><td>M</td></tr><tr><td>B</td></tr><tr><td>M</td></tr><tr><td>M</td></tr><tr><td>M</td></tr><tr><td>M</td></tr><tr><td>M</td></tr><tr><td>M</td></tr><tr><td>M</td></tr><tr><td>M</td></tr><tr><td>B</td></tr><tr><td>M</td></tr><tr><td>B</td></tr><tr><td>B</td></tr><tr><td>B</td></tr><tr><td>B</td></tr><tr><td>B</td></tr><tr><td>M</td></tr><tr><td>M</td></tr><tr><td>B</td></tr><tr><td>M</td></tr><tr><td>M</td></tr><tr><td>B</td></tr><tr><td>B</td></tr><tr><td>B</td></tr><tr><td>B</td></tr><tr><td>M</td></tr><tr><td>B</td></tr><tr><td>M</td></tr><tr><td>M</td></tr><tr><td>B</td></tr><tr><td>B</td></tr><tr><td>B</td></tr><tr><td>B</td></tr><tr><td>M</td></tr><tr><td>B</td></tr><tr><td>M</td></tr><tr><td>M</td></tr><tr><td>B</td></tr><tr><td>M</td></tr><tr><td>B</td></tr><tr><td>M</td></tr><tr><td>M</td></tr><tr><td>B</td></tr><tr><td>B</td></tr><tr><td>B</td></tr><tr><td>M</td></tr><tr><td>M</td></tr><tr><td>B</td></tr><tr><td>M</td></tr><tr><td>M</td></tr><tr><td>M</td></tr><tr><td>B</td></tr><tr><td>B</td></tr><tr><td>B</td></tr><tr><td>M</td></tr><tr><td>B</td></tr><tr><td>B</td></tr><tr><td>M</td></tr><tr><td>M</td></tr><tr><td>B</td></tr><tr><td>B</td></tr><tr><td>B</td></tr><tr><td>M</td></tr><tr><td>M</td></tr><tr><td>B</td></tr><tr><td>B</td></tr><tr><td>B</td></tr><tr><td>B</td></tr><tr><td>M</td></tr><tr><td>B</td></tr><tr><td>B</td></tr><tr><td>M</td></tr><tr><td>B</td></tr><tr><td>B</td></tr><tr><td>B</td></tr><tr><td>B</td></tr><tr><td>B</td></tr><tr><td>B</td></tr><tr><td>B</td></tr><tr><td>B</td></tr><tr><td>M</td></tr><tr><td>M</td></tr><tr><td>M</td></tr><tr><td>B</td></tr><tr><td>M</td></tr><tr><td>M</td></tr><tr><td>B</td></tr><tr><td>B</td></tr><tr><td>B</td></tr><tr><td>M</td></tr><tr><td>M</td></tr><tr><td>B</td></tr><tr><td>M</td></tr><tr><td>B</td></tr><tr><td>M</td></tr><tr><td>M</td></tr><tr><td>B</td></tr><tr><td>M</td></tr><tr><td>M</td></tr><tr><td>B</td></tr><tr><td>B</td></tr><tr><td>M</td></tr><tr><td>B</td></tr><tr><td>B</td></tr><tr><td>M</td></tr><tr><td>B</td></tr><tr><td>B</td></tr><tr><td>B</td></tr><tr><td>B</td></tr><tr><td>M</td></tr><tr><td>B</td></tr><tr><td>B</td></tr><tr><td>B</td></tr><tr><td>B</td></tr><tr><td>B</td></tr><tr><td>B</td></tr><tr><td>B</td></tr><tr><td>B</td></tr><tr><td>B</td></tr><tr><td>M</td></tr><tr><td>B</td></tr><tr><td>B</td></tr><tr><td>B</td></tr><tr><td>B</td></tr><tr><td>M</td></tr><tr><td>M</td></tr><tr><td>B</td></tr><tr><td>M</td></tr><tr><td>B</td></tr><tr><td>B</td></tr><tr><td>M</td></tr><tr><td>M</td></tr><tr><td>B</td></tr><tr><td>B</td></tr><tr><td>M</td></tr><tr><td>M</td></tr><tr><td>B</td></tr><tr><td>B</td></tr><tr><td>B</td></tr><tr><td>B</td></tr><tr><td>M</td></tr><tr><td>B</td></tr><tr><td>B</td></tr><tr><td>M</td></tr><tr><td>M</td></tr><tr><td>M</td></tr><tr><td>B</td></tr><tr><td>M</td></tr><tr><td>B</td></tr><tr><td>M</td></tr><tr><td>B</td></tr><tr><td>B</td></tr><tr><td>B</td></tr><tr><td>M</td></tr><tr><td>B</td></tr><tr><td>B</td></tr><tr><td>M</td></tr><tr><td>M</td></tr><tr><td>B</td></tr><tr><td>M</td></tr><tr><td>M</td></tr><tr><td>M</td></tr><tr><td>M</td></tr><tr><td>B</td></tr><tr><td>M</td></tr><tr><td>M</td></tr><tr><td>M</td></tr><tr><td>B</td></tr><tr><td>M</td></tr><tr><td>B</td></tr><tr><td>M</td></tr><tr><td>B</td></tr><tr><td>B</td></tr><tr><td>M</td></tr><tr><td>B</td></tr><tr><td>M</td></tr><tr><td>M</td></tr><tr><td>M</td></tr><tr><td>M</td></tr><tr><td>B</td></tr><tr><td>B</td></tr><tr><td>M</td></tr><tr><td>M</td></tr><tr><td>B</td></tr><tr><td>B</td></tr><tr><td>B</td></tr><tr><td>M</td></tr><tr><td>B</td></tr><tr><td>B</td></tr><tr><td>B</td></tr><tr><td>B</td></tr><tr><td>B</td></tr><tr><td>M</td></tr><tr><td>M</td></tr><tr><td>B</td></tr><tr><td>B</td></tr><tr><td>M</td></tr><tr><td>B</td></tr><tr><td>B</td></tr><tr><td>M</td></tr><tr><td>M</td></tr><tr><td>B</td></tr><tr><td>M</td></tr><tr><td>B</td></tr><tr><td>B</td></tr><tr><td>B</td></tr><tr><td>B</td></tr><tr><td>M</td></tr><tr><td>B</td></tr><tr><td>B</td></tr><tr><td>B</td></tr><tr><td>B</td></tr><tr><td>B</td></tr><tr><td>M</td></tr><tr><td>B</td></tr><tr><td>M</td></tr><tr><td>M</td></tr><tr><td>M</td></tr><tr><td>M</td></tr><tr><td>M</td></tr><tr><td>M</td></tr><tr><td>M</td></tr><tr><td>M</td></tr><tr><td>M</td></tr><tr><td>M</td></tr><tr><td>M</td></tr><tr><td>M</td></tr><tr><td>M</td></tr><tr><td>M</td></tr><tr><td>B</td></tr><tr><td>B</td></tr><tr><td>B</td></tr><tr><td>B</td></tr><tr><td>B</td></tr><tr><td>B</td></tr><tr><td>M</td></tr><tr><td>B</td></tr><tr><td>M</td></tr><tr><td>B</td></tr><tr><td>B</td></tr><tr><td>M</td></tr><tr><td>B</td></tr><tr><td>B</td></tr><tr><td>M</td></tr><tr><td>B</td></tr><tr><td>M</td></tr><tr><td>M</td></tr><tr><td>B</td></tr><tr><td>B</td></tr><tr><td>B</td></tr><tr><td>B</td></tr><tr><td>B</td></tr><tr><td>B</td></tr><tr><td>B</td></tr><tr><td>B</td></tr><tr><td>B</td></tr><tr><td>B</td></tr><tr><td>B</td></tr><tr><td>B</td></tr><tr><td>B</td></tr><tr><td>M</td></tr><tr><td>B</td></tr><tr><td>B</td></tr><tr><td>M</td></tr><tr><td>B</td></tr><tr><td>M</td></tr><tr><td>B</td></tr><tr><td>B</td></tr><tr><td>B</td></tr><tr><td>B</td></tr><tr><td>B</td></tr><tr><td>B</td></tr><tr><td>B</td></tr><tr><td>B</td></tr><tr><td>B</td></tr><tr><td>B</td></tr><tr><td>B</td></tr><tr><td>B</td></tr><tr><td>B</td></tr><tr><td>B</td></tr><tr><td>M</td></tr><tr><td>B</td></tr><tr><td>B</td></tr><tr><td>B</td></tr><tr><td>M</td></tr><tr><td>B</td></tr><tr><td>M</td></tr><tr><td>B</td></tr><tr><td>B</td></tr><tr><td>B</td></tr><tr><td>B</td></tr><tr><td>M</td></tr><tr><td>M</td></tr><tr><td>M</td></tr><tr><td>B</td></tr><tr><td>B</td></tr><tr><td>B</td></tr><tr><td>B</td></tr><tr><td>M</td></tr><tr><td>B</td></tr><tr><td>M</td></tr><tr><td>B</td></tr><tr><td>M</td></tr><tr><td>B</td></tr><tr><td>B</td></tr><tr><td>B</td></tr><tr><td>M</td></tr><tr><td>B</td></tr><tr><td>B</td></tr><tr><td>B</td></tr><tr><td>B</td></tr><tr><td>B</td></tr><tr><td>B</td></tr><tr><td>B</td></tr><tr><td>M</td></tr><tr><td>M</td></tr><tr><td>M</td></tr><tr><td>B</td></tr><tr><td>B</td></tr><tr><td>B</td></tr><tr><td>B</td></tr><tr><td>B</td></tr><tr><td>B</td></tr><tr><td>B</td></tr><tr><td>B</td></tr><tr><td>B</td></tr><tr><td>B</td></tr><tr><td>B</td></tr><tr><td>M</td></tr><tr><td>M</td></tr><tr><td>B</td></tr><tr><td>M</td></tr><tr><td>M</td></tr><tr><td>M</td></tr><tr><td>B</td></tr><tr><td>M</td></tr><tr><td>M</td></tr><tr><td>B</td></tr><tr><td>B</td></tr><tr><td>B</td></tr><tr><td>B</td></tr><tr><td>B</td></tr><tr><td>M</td></tr><tr><td>B</td></tr><tr><td>B</td></tr><tr><td>B</td></tr><tr><td>B</td></tr><tr><td>B</td></tr><tr><td>M</td></tr><tr><td>B</td></tr><tr><td>B</td></tr><tr><td>B</td></tr><tr><td>M</td></tr><tr><td>B</td></tr><tr><td>B</td></tr><tr><td>M</td></tr><tr><td>M</td></tr><tr><td>B</td></tr><tr><td>B</td></tr><tr><td>B</td></tr><tr><td>B</td></tr><tr><td>B</td></tr><tr><td>B</td></tr><tr><td>M</td></tr><tr><td>B</td></tr><tr><td>B</td></tr><tr><td>B</td></tr><tr><td>B</td></tr><tr><td>B</td></tr><tr><td>B</td></tr><tr><td>B</td></tr><tr><td>M</td></tr><tr><td>B</td></tr><tr><td>B</td></tr><tr><td>B</td></tr><tr><td>B</td></tr><tr><td>B</td></tr><tr><td>M</td></tr><tr><td>B</td></tr><tr><td>B</td></tr><tr><td>M</td></tr><tr><td>B</td></tr><tr><td>B</td></tr><tr><td>B</td></tr><tr><td>B</td></tr><tr><td>B</td></tr><tr><td>B</td></tr><tr><td>B</td></tr><tr><td>B</td></tr><tr><td>B</td></tr><tr><td>B</td></tr><tr><td>B</td></tr><tr><td>B</td></tr><tr><td>M</td></tr><tr><td>B</td></tr><tr><td>M</td></tr><tr><td>M</td></tr><tr><td>B</td></tr><tr><td>M</td></tr><tr><td>B</td></tr><tr><td>B</td></tr><tr><td>B</td></tr><tr><td>B</td></tr><tr><td>B</td></tr><tr><td>M</td></tr><tr><td>B</td></tr><tr><td>B</td></tr><tr><td>M</td></tr><tr><td>B</td></tr><tr><td>M</td></tr><tr><td>B</td></tr><tr><td>B</td></tr><tr><td>M</td></tr><tr><td>B</td></tr><tr><td>M</td></tr><tr><td>B</td></tr><tr><td>B</td></tr><tr><td>B</td></tr><tr><td>B</td></tr><tr><td>B</td></tr><tr><td>B</td></tr><tr><td>B</td></tr><tr><td>B</td></tr><tr><td>M</td></tr><tr><td>M</td></tr><tr><td>B</td></tr><tr><td>B</td></tr><tr><td>B</td></tr><tr><td>B</td></tr><tr><td>B</td></tr><tr><td>B</td></tr><tr><td>M</td></tr><tr><td>B</td></tr><tr><td>B</td></tr><tr><td>B</td></tr><tr><td>B</td></tr><tr><td>B</td></tr><tr><td>B</td></tr><tr><td>B</td></tr><tr><td>B</td></tr><tr><td>B</td></tr><tr><td>B</td></tr><tr><td>M</td></tr><tr><td>B</td></tr><tr><td>B</td></tr><tr><td>B</td></tr><tr><td>B</td></tr><tr><td>B</td></tr><tr><td>B</td></tr><tr><td>B</td></tr><tr><td>M</td></tr><tr><td>B</td></tr><tr><td>M</td></tr><tr><td>B</td></tr><tr><td>B</td></tr><tr><td>M</td></tr><tr><td>B</td></tr><tr><td>B</td></tr><tr><td>B</td></tr><tr><td>B</td></tr><tr><td>B</td></tr><tr><td>M</td></tr><tr><td>M</td></tr><tr><td>B</td></tr><tr><td>M</td></tr><tr><td>B</td></tr><tr><td>M</td></tr><tr><td>B</td></tr><tr><td>B</td></tr><tr><td>B</td></tr><tr><td>B</td></tr><tr><td>B</td></tr><tr><td>M</td></tr><tr><td>B</td></tr><tr><td>B</td></tr><tr><td>M</td></tr><tr><td>B</td></tr><tr><td>M</td></tr><tr><td>B</td></tr><tr><td>M</td></tr><tr><td>M</td></tr><tr><td>B</td></tr><tr><td>B</td></tr><tr><td>B</td></tr><tr><td>M</td></tr><tr><td>B</td></tr><tr><td>B</td></tr><tr><td>B</td></tr><tr><td>B</td></tr><tr><td>B</td></tr><tr><td>B</td></tr><tr><td>B</td></tr><tr><td>B</td></tr><tr><td>B</td></tr><tr><td>B</td></tr><tr><td>B</td></tr><tr><td>M</td></tr><tr><td>B</td></tr><tr><td>M</td></tr><tr><td>M</td></tr><tr><td>B</td></tr><tr><td>B</td></tr><tr><td>B</td></tr><tr><td>B</td></tr><tr><td>B</td></tr><tr><td>B</td></tr><tr><td>B</td></tr><tr><td>B</td></tr><tr><td>B</td></tr><tr><td>B</td></tr><tr><td>B</td></tr><tr><td>B</td></tr><tr><td>B</td></tr><tr><td>B</td></tr><tr><td>B</td></tr><tr><td>B</td></tr><tr><td>B</td></tr><tr><td>B</td></tr><tr><td>B</td></tr><tr><td>B</td></tr><tr><td>B</td></tr><tr><td>B</td></tr><tr><td>B</td></tr><tr><td>B</td></tr><tr><td>B</td></tr><tr><td>M</td></tr><tr><td>M</td></tr><tr><td>M</td></tr><tr><td>M</td></tr><tr><td>M</td></tr><tr><td>M</td></tr><tr><td>B</td></tr></tbody></table></div>"
      ]
     },
     "metadata": {
      "application/vnd.databricks.v1+output": {
       "addedWidgets": {},
       "aggData": [],
       "aggError": "",
       "aggOverflow": false,
       "aggSchema": [],
       "aggSeriesLimitReached": false,
       "aggType": "",
       "arguments": {},
       "columnCustomDisplayInfos": {},
       "data": [
        [
         "M"
        ],
        [
         "M"
        ],
        [
         "M"
        ],
        [
         "M"
        ],
        [
         "M"
        ],
        [
         "M"
        ],
        [
         "M"
        ],
        [
         "M"
        ],
        [
         "M"
        ],
        [
         "M"
        ],
        [
         "M"
        ],
        [
         "M"
        ],
        [
         "M"
        ],
        [
         "M"
        ],
        [
         "M"
        ],
        [
         "M"
        ],
        [
         "M"
        ],
        [
         "M"
        ],
        [
         "M"
        ],
        [
         "B"
        ],
        [
         "B"
        ],
        [
         "B"
        ],
        [
         "M"
        ],
        [
         "M"
        ],
        [
         "M"
        ],
        [
         "M"
        ],
        [
         "M"
        ],
        [
         "M"
        ],
        [
         "M"
        ],
        [
         "M"
        ],
        [
         "M"
        ],
        [
         "M"
        ],
        [
         "M"
        ],
        [
         "M"
        ],
        [
         "M"
        ],
        [
         "M"
        ],
        [
         "M"
        ],
        [
         "B"
        ],
        [
         "M"
        ],
        [
         "M"
        ],
        [
         "M"
        ],
        [
         "M"
        ],
        [
         "M"
        ],
        [
         "M"
        ],
        [
         "M"
        ],
        [
         "M"
        ],
        [
         "B"
        ],
        [
         "M"
        ],
        [
         "B"
        ],
        [
         "B"
        ],
        [
         "B"
        ],
        [
         "B"
        ],
        [
         "B"
        ],
        [
         "M"
        ],
        [
         "M"
        ],
        [
         "B"
        ],
        [
         "M"
        ],
        [
         "M"
        ],
        [
         "B"
        ],
        [
         "B"
        ],
        [
         "B"
        ],
        [
         "B"
        ],
        [
         "M"
        ],
        [
         "B"
        ],
        [
         "M"
        ],
        [
         "M"
        ],
        [
         "B"
        ],
        [
         "B"
        ],
        [
         "B"
        ],
        [
         "B"
        ],
        [
         "M"
        ],
        [
         "B"
        ],
        [
         "M"
        ],
        [
         "M"
        ],
        [
         "B"
        ],
        [
         "M"
        ],
        [
         "B"
        ],
        [
         "M"
        ],
        [
         "M"
        ],
        [
         "B"
        ],
        [
         "B"
        ],
        [
         "B"
        ],
        [
         "M"
        ],
        [
         "M"
        ],
        [
         "B"
        ],
        [
         "M"
        ],
        [
         "M"
        ],
        [
         "M"
        ],
        [
         "B"
        ],
        [
         "B"
        ],
        [
         "B"
        ],
        [
         "M"
        ],
        [
         "B"
        ],
        [
         "B"
        ],
        [
         "M"
        ],
        [
         "M"
        ],
        [
         "B"
        ],
        [
         "B"
        ],
        [
         "B"
        ],
        [
         "M"
        ],
        [
         "M"
        ],
        [
         "B"
        ],
        [
         "B"
        ],
        [
         "B"
        ],
        [
         "B"
        ],
        [
         "M"
        ],
        [
         "B"
        ],
        [
         "B"
        ],
        [
         "M"
        ],
        [
         "B"
        ],
        [
         "B"
        ],
        [
         "B"
        ],
        [
         "B"
        ],
        [
         "B"
        ],
        [
         "B"
        ],
        [
         "B"
        ],
        [
         "B"
        ],
        [
         "M"
        ],
        [
         "M"
        ],
        [
         "M"
        ],
        [
         "B"
        ],
        [
         "M"
        ],
        [
         "M"
        ],
        [
         "B"
        ],
        [
         "B"
        ],
        [
         "B"
        ],
        [
         "M"
        ],
        [
         "M"
        ],
        [
         "B"
        ],
        [
         "M"
        ],
        [
         "B"
        ],
        [
         "M"
        ],
        [
         "M"
        ],
        [
         "B"
        ],
        [
         "M"
        ],
        [
         "M"
        ],
        [
         "B"
        ],
        [
         "B"
        ],
        [
         "M"
        ],
        [
         "B"
        ],
        [
         "B"
        ],
        [
         "M"
        ],
        [
         "B"
        ],
        [
         "B"
        ],
        [
         "B"
        ],
        [
         "B"
        ],
        [
         "M"
        ],
        [
         "B"
        ],
        [
         "B"
        ],
        [
         "B"
        ],
        [
         "B"
        ],
        [
         "B"
        ],
        [
         "B"
        ],
        [
         "B"
        ],
        [
         "B"
        ],
        [
         "B"
        ],
        [
         "M"
        ],
        [
         "B"
        ],
        [
         "B"
        ],
        [
         "B"
        ],
        [
         "B"
        ],
        [
         "M"
        ],
        [
         "M"
        ],
        [
         "B"
        ],
        [
         "M"
        ],
        [
         "B"
        ],
        [
         "B"
        ],
        [
         "M"
        ],
        [
         "M"
        ],
        [
         "B"
        ],
        [
         "B"
        ],
        [
         "M"
        ],
        [
         "M"
        ],
        [
         "B"
        ],
        [
         "B"
        ],
        [
         "B"
        ],
        [
         "B"
        ],
        [
         "M"
        ],
        [
         "B"
        ],
        [
         "B"
        ],
        [
         "M"
        ],
        [
         "M"
        ],
        [
         "M"
        ],
        [
         "B"
        ],
        [
         "M"
        ],
        [
         "B"
        ],
        [
         "M"
        ],
        [
         "B"
        ],
        [
         "B"
        ],
        [
         "B"
        ],
        [
         "M"
        ],
        [
         "B"
        ],
        [
         "B"
        ],
        [
         "M"
        ],
        [
         "M"
        ],
        [
         "B"
        ],
        [
         "M"
        ],
        [
         "M"
        ],
        [
         "M"
        ],
        [
         "M"
        ],
        [
         "B"
        ],
        [
         "M"
        ],
        [
         "M"
        ],
        [
         "M"
        ],
        [
         "B"
        ],
        [
         "M"
        ],
        [
         "B"
        ],
        [
         "M"
        ],
        [
         "B"
        ],
        [
         "B"
        ],
        [
         "M"
        ],
        [
         "B"
        ],
        [
         "M"
        ],
        [
         "M"
        ],
        [
         "M"
        ],
        [
         "M"
        ],
        [
         "B"
        ],
        [
         "B"
        ],
        [
         "M"
        ],
        [
         "M"
        ],
        [
         "B"
        ],
        [
         "B"
        ],
        [
         "B"
        ],
        [
         "M"
        ],
        [
         "B"
        ],
        [
         "B"
        ],
        [
         "B"
        ],
        [
         "B"
        ],
        [
         "B"
        ],
        [
         "M"
        ],
        [
         "M"
        ],
        [
         "B"
        ],
        [
         "B"
        ],
        [
         "M"
        ],
        [
         "B"
        ],
        [
         "B"
        ],
        [
         "M"
        ],
        [
         "M"
        ],
        [
         "B"
        ],
        [
         "M"
        ],
        [
         "B"
        ],
        [
         "B"
        ],
        [
         "B"
        ],
        [
         "B"
        ],
        [
         "M"
        ],
        [
         "B"
        ],
        [
         "B"
        ],
        [
         "B"
        ],
        [
         "B"
        ],
        [
         "B"
        ],
        [
         "M"
        ],
        [
         "B"
        ],
        [
         "M"
        ],
        [
         "M"
        ],
        [
         "M"
        ],
        [
         "M"
        ],
        [
         "M"
        ],
        [
         "M"
        ],
        [
         "M"
        ],
        [
         "M"
        ],
        [
         "M"
        ],
        [
         "M"
        ],
        [
         "M"
        ],
        [
         "M"
        ],
        [
         "M"
        ],
        [
         "M"
        ],
        [
         "B"
        ],
        [
         "B"
        ],
        [
         "B"
        ],
        [
         "B"
        ],
        [
         "B"
        ],
        [
         "B"
        ],
        [
         "M"
        ],
        [
         "B"
        ],
        [
         "M"
        ],
        [
         "B"
        ],
        [
         "B"
        ],
        [
         "M"
        ],
        [
         "B"
        ],
        [
         "B"
        ],
        [
         "M"
        ],
        [
         "B"
        ],
        [
         "M"
        ],
        [
         "M"
        ],
        [
         "B"
        ],
        [
         "B"
        ],
        [
         "B"
        ],
        [
         "B"
        ],
        [
         "B"
        ],
        [
         "B"
        ],
        [
         "B"
        ],
        [
         "B"
        ],
        [
         "B"
        ],
        [
         "B"
        ],
        [
         "B"
        ],
        [
         "B"
        ],
        [
         "B"
        ],
        [
         "M"
        ],
        [
         "B"
        ],
        [
         "B"
        ],
        [
         "M"
        ],
        [
         "B"
        ],
        [
         "M"
        ],
        [
         "B"
        ],
        [
         "B"
        ],
        [
         "B"
        ],
        [
         "B"
        ],
        [
         "B"
        ],
        [
         "B"
        ],
        [
         "B"
        ],
        [
         "B"
        ],
        [
         "B"
        ],
        [
         "B"
        ],
        [
         "B"
        ],
        [
         "B"
        ],
        [
         "B"
        ],
        [
         "B"
        ],
        [
         "M"
        ],
        [
         "B"
        ],
        [
         "B"
        ],
        [
         "B"
        ],
        [
         "M"
        ],
        [
         "B"
        ],
        [
         "M"
        ],
        [
         "B"
        ],
        [
         "B"
        ],
        [
         "B"
        ],
        [
         "B"
        ],
        [
         "M"
        ],
        [
         "M"
        ],
        [
         "M"
        ],
        [
         "B"
        ],
        [
         "B"
        ],
        [
         "B"
        ],
        [
         "B"
        ],
        [
         "M"
        ],
        [
         "B"
        ],
        [
         "M"
        ],
        [
         "B"
        ],
        [
         "M"
        ],
        [
         "B"
        ],
        [
         "B"
        ],
        [
         "B"
        ],
        [
         "M"
        ],
        [
         "B"
        ],
        [
         "B"
        ],
        [
         "B"
        ],
        [
         "B"
        ],
        [
         "B"
        ],
        [
         "B"
        ],
        [
         "B"
        ],
        [
         "M"
        ],
        [
         "M"
        ],
        [
         "M"
        ],
        [
         "B"
        ],
        [
         "B"
        ],
        [
         "B"
        ],
        [
         "B"
        ],
        [
         "B"
        ],
        [
         "B"
        ],
        [
         "B"
        ],
        [
         "B"
        ],
        [
         "B"
        ],
        [
         "B"
        ],
        [
         "B"
        ],
        [
         "M"
        ],
        [
         "M"
        ],
        [
         "B"
        ],
        [
         "M"
        ],
        [
         "M"
        ],
        [
         "M"
        ],
        [
         "B"
        ],
        [
         "M"
        ],
        [
         "M"
        ],
        [
         "B"
        ],
        [
         "B"
        ],
        [
         "B"
        ],
        [
         "B"
        ],
        [
         "B"
        ],
        [
         "M"
        ],
        [
         "B"
        ],
        [
         "B"
        ],
        [
         "B"
        ],
        [
         "B"
        ],
        [
         "B"
        ],
        [
         "M"
        ],
        [
         "B"
        ],
        [
         "B"
        ],
        [
         "B"
        ],
        [
         "M"
        ],
        [
         "B"
        ],
        [
         "B"
        ],
        [
         "M"
        ],
        [
         "M"
        ],
        [
         "B"
        ],
        [
         "B"
        ],
        [
         "B"
        ],
        [
         "B"
        ],
        [
         "B"
        ],
        [
         "B"
        ],
        [
         "M"
        ],
        [
         "B"
        ],
        [
         "B"
        ],
        [
         "B"
        ],
        [
         "B"
        ],
        [
         "B"
        ],
        [
         "B"
        ],
        [
         "B"
        ],
        [
         "M"
        ],
        [
         "B"
        ],
        [
         "B"
        ],
        [
         "B"
        ],
        [
         "B"
        ],
        [
         "B"
        ],
        [
         "M"
        ],
        [
         "B"
        ],
        [
         "B"
        ],
        [
         "M"
        ],
        [
         "B"
        ],
        [
         "B"
        ],
        [
         "B"
        ],
        [
         "B"
        ],
        [
         "B"
        ],
        [
         "B"
        ],
        [
         "B"
        ],
        [
         "B"
        ],
        [
         "B"
        ],
        [
         "B"
        ],
        [
         "B"
        ],
        [
         "B"
        ],
        [
         "M"
        ],
        [
         "B"
        ],
        [
         "M"
        ],
        [
         "M"
        ],
        [
         "B"
        ],
        [
         "M"
        ],
        [
         "B"
        ],
        [
         "B"
        ],
        [
         "B"
        ],
        [
         "B"
        ],
        [
         "B"
        ],
        [
         "M"
        ],
        [
         "B"
        ],
        [
         "B"
        ],
        [
         "M"
        ],
        [
         "B"
        ],
        [
         "M"
        ],
        [
         "B"
        ],
        [
         "B"
        ],
        [
         "M"
        ],
        [
         "B"
        ],
        [
         "M"
        ],
        [
         "B"
        ],
        [
         "B"
        ],
        [
         "B"
        ],
        [
         "B"
        ],
        [
         "B"
        ],
        [
         "B"
        ],
        [
         "B"
        ],
        [
         "B"
        ],
        [
         "M"
        ],
        [
         "M"
        ],
        [
         "B"
        ],
        [
         "B"
        ],
        [
         "B"
        ],
        [
         "B"
        ],
        [
         "B"
        ],
        [
         "B"
        ],
        [
         "M"
        ],
        [
         "B"
        ],
        [
         "B"
        ],
        [
         "B"
        ],
        [
         "B"
        ],
        [
         "B"
        ],
        [
         "B"
        ],
        [
         "B"
        ],
        [
         "B"
        ],
        [
         "B"
        ],
        [
         "B"
        ],
        [
         "M"
        ],
        [
         "B"
        ],
        [
         "B"
        ],
        [
         "B"
        ],
        [
         "B"
        ],
        [
         "B"
        ],
        [
         "B"
        ],
        [
         "B"
        ],
        [
         "M"
        ],
        [
         "B"
        ],
        [
         "M"
        ],
        [
         "B"
        ],
        [
         "B"
        ],
        [
         "M"
        ],
        [
         "B"
        ],
        [
         "B"
        ],
        [
         "B"
        ],
        [
         "B"
        ],
        [
         "B"
        ],
        [
         "M"
        ],
        [
         "M"
        ],
        [
         "B"
        ],
        [
         "M"
        ],
        [
         "B"
        ],
        [
         "M"
        ],
        [
         "B"
        ],
        [
         "B"
        ],
        [
         "B"
        ],
        [
         "B"
        ],
        [
         "B"
        ],
        [
         "M"
        ],
        [
         "B"
        ],
        [
         "B"
        ],
        [
         "M"
        ],
        [
         "B"
        ],
        [
         "M"
        ],
        [
         "B"
        ],
        [
         "M"
        ],
        [
         "M"
        ],
        [
         "B"
        ],
        [
         "B"
        ],
        [
         "B"
        ],
        [
         "M"
        ],
        [
         "B"
        ],
        [
         "B"
        ],
        [
         "B"
        ],
        [
         "B"
        ],
        [
         "B"
        ],
        [
         "B"
        ],
        [
         "B"
        ],
        [
         "B"
        ],
        [
         "B"
        ],
        [
         "B"
        ],
        [
         "B"
        ],
        [
         "M"
        ],
        [
         "B"
        ],
        [
         "M"
        ],
        [
         "M"
        ],
        [
         "B"
        ],
        [
         "B"
        ],
        [
         "B"
        ],
        [
         "B"
        ],
        [
         "B"
        ],
        [
         "B"
        ],
        [
         "B"
        ],
        [
         "B"
        ],
        [
         "B"
        ],
        [
         "B"
        ],
        [
         "B"
        ],
        [
         "B"
        ],
        [
         "B"
        ],
        [
         "B"
        ],
        [
         "B"
        ],
        [
         "B"
        ],
        [
         "B"
        ],
        [
         "B"
        ],
        [
         "B"
        ],
        [
         "B"
        ],
        [
         "B"
        ],
        [
         "B"
        ],
        [
         "B"
        ],
        [
         "B"
        ],
        [
         "B"
        ],
        [
         "M"
        ],
        [
         "M"
        ],
        [
         "M"
        ],
        [
         "M"
        ],
        [
         "M"
        ],
        [
         "M"
        ],
        [
         "B"
        ]
       ],
       "datasetInfos": [],
       "dbfsResultPath": null,
       "isJsonSchema": true,
       "metadata": {},
       "overflow": false,
       "plotOptions": {
        "customPlotOptions": {},
        "displayType": "table",
        "pivotAggregation": null,
        "pivotColumns": null,
        "xColumns": null,
        "yColumns": null
       },
       "removedWidgets": [],
       "schema": [
        {
         "metadata": "{}",
         "name": "diagnosis",
         "type": "\"string\""
        }
       ],
       "type": "table"
      }
     },
     "output_type": "display_data"
    }
   ],
   "source": [
    "results.display()"
   ]
  },
  {
   "cell_type": "code",
   "execution_count": 0,
   "metadata": {
    "application/vnd.databricks.v1+cell": {
     "cellMetadata": {
      "byteLimit": 2048000,
      "rowLimit": 10000
     },
     "inputWidgets": {},
     "nuid": "a452d062-bd9c-4334-a9a8-a70966b9fa64",
     "showTitle": false,
     "title": ""
    }
   },
   "outputs": [],
   "source": [
    "results.write.json('/mnt/lake/kiran/results.json')"
   ]
  },
  {
   "cell_type": "code",
   "execution_count": 0,
   "metadata": {
    "application/vnd.databricks.v1+cell": {
     "cellMetadata": {
      "byteLimit": 2048000,
      "rowLimit": 10000
     },
     "inputWidgets": {},
     "nuid": "dfb7fd21-a5fb-45ae-aa58-fde9bcaef546",
     "showTitle": false,
     "title": ""
    }
   },
   "outputs": [
    {
     "output_type": "execute_result",
     "data": {
      "text/plain": [
       "[FileInfo(path='dbfs:/mnt/lake/data.csv', name='data.csv', size=125206, modificationTime=1708072644000),\n",
       " FileInfo(path='dbfs:/mnt/lake/kiran/', name='kiran/', size=0, modificationTime=0)]"
      ]
     },
     "execution_count": 12,
     "metadata": {},
     "output_type": "execute_result"
    }
   ],
   "source": [
    "dbutils.fs.ls('mnt/lake/')"
   ]
  },
  {
   "cell_type": "code",
   "execution_count": 0,
   "metadata": {
    "application/vnd.databricks.v1+cell": {
     "cellMetadata": {
      "byteLimit": 2048000,
      "rowLimit": 10000
     },
     "inputWidgets": {},
     "nuid": "a1d2245c-51a7-4f66-9799-4c1cdbea47d0",
     "showTitle": false,
     "title": ""
    }
   },
   "outputs": [
    {
     "output_type": "execute_result",
     "data": {
      "text/plain": [
       "[FileInfo(path='dbfs:/mnt/lake/kiran/results.json/', name='results.json/', size=0, modificationTime=0)]"
      ]
     },
     "execution_count": 13,
     "metadata": {},
     "output_type": "execute_result"
    }
   ],
   "source": [
    "dbutils.fs.ls('mnt/lake/kiran')"
   ]
  },
  {
   "cell_type": "code",
   "execution_count": 0,
   "metadata": {
    "application/vnd.databricks.v1+cell": {
     "cellMetadata": {},
     "inputWidgets": {},
     "nuid": "10723f81-a637-4028-89f6-3e7341dfa691",
     "showTitle": false,
     "title": ""
    }
   },
   "outputs": [],
   "source": [
    "# to verify go back to your datalake->container-> you will be able to see a folder created with your name, 
click on the folder, you will be able to see the results.json file"
   ]
  }
 ],
 "metadata": {
  "application/vnd.databricks.v1+notebook": {
   "dashboards": [],
   "language": "python",
   "notebookMetadata": {
    "pythonIndentUnit": 4
   },
   "notebookName": "Mounting Data Lake",
   "widgets": {}
  }
 },
 "nbformat": 4,
 "nbformat_minor": 0
}
