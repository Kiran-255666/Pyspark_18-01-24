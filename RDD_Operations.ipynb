{
  "cells": [
    {
      "cell_type": "code",
      "execution_count": null,
      "metadata": {
        "application/vnd.databricks.v1+cell": {
          "cellMetadata": {
            "byteLimit": 2048000,
            "rowLimit": 10000
          },
          "inputWidgets": {},
          "nuid": "d4bbe443-1d62-4a7d-89bf-0b61dd8d1a78",
          "showTitle": false,
          "title": ""
        },
        "id": "p_ui2w0-XTv7"
      },
      "outputs": [],
      "source": [
        "from pyspark.sql import SparkSession"
      ]
    },
    {
      "cell_type": "code",
      "execution_count": null,
      "metadata": {
        "application/vnd.databricks.v1+cell": {
          "cellMetadata": {
            "byteLimit": 2048000,
            "rowLimit": 10000
          },
          "inputWidgets": {},
          "nuid": "878c000c-e474-4400-b04c-8415a4cf5239",
          "showTitle": false,
          "title": ""
        },
        "id": "zucDrvhRXTwA"
      },
      "outputs": [],
      "source": [
        "# Create a SparkSession\n",
        "spark = SparkSession.builder.appName(\"RDD-Demo\").getOrCreate()"
      ]
    },
    {
      "cell_type": "markdown",
      "metadata": {
        "application/vnd.databricks.v1+cell": {
          "cellMetadata": {},
          "inputWidgets": {},
          "nuid": "18fbf834-b40f-4e69-82db-28d028cc1b7e",
          "showTitle": false,
          "title": ""
        },
        "id": "p-7OsHv-XTwC"
      },
      "source": [
        "### How to create RDDs"
      ]
    },
    {
      "cell_type": "code",
      "execution_count": null,
      "metadata": {
        "application/vnd.databricks.v1+cell": {
          "cellMetadata": {
            "byteLimit": 2048000,
            "rowLimit": 10000
          },
          "inputWidgets": {},
          "nuid": "b3a5fc5a-8058-4cfe-b28b-c5af6163faa5",
          "showTitle": false,
          "title": ""
        },
        "id": "sjmp8FoxXTwE"
      },
      "outputs": [],
      "source": [
        "numbers = [1, 2, 3, 4, 5]\n",
        "rdd = spark.sparkContext.parallelize(numbers)"
      ]
    },
    {
      "cell_type": "code",
      "execution_count": null,
      "metadata": {
        "application/vnd.databricks.v1+cell": {
          "cellMetadata": {
            "byteLimit": 2048000,
            "rowLimit": 10000
          },
          "inputWidgets": {},
          "nuid": "ce04fd6f-f5d7-41fb-84e8-2262ea813868",
          "showTitle": false,
          "title": ""
        },
        "id": "8_dqctwJXTwF",
        "outputId": "b7499b88-b63a-4399-e486-94d05d0c1f33"
      },
      "outputs": [
        {
          "output_type": "execute_result",
          "data": {
            "text/plain": [
              "[1, 2, 3, 4, 5]"
            ]
          },
          "execution_count": 9,
          "metadata": {}
        }
      ],
      "source": [
        "# Collect action: Retrieve all elements of the RDD\n",
        "rdd.collect()"
      ]
    },
    {
      "cell_type": "code",
      "execution_count": null,
      "metadata": {
        "application/vnd.databricks.v1+cell": {
          "cellMetadata": {
            "byteLimit": 2048000,
            "rowLimit": 10000
          },
          "inputWidgets": {},
          "nuid": "8f232f35-fefc-403a-b050-7922a2d8d7fc",
          "showTitle": false,
          "title": ""
        },
        "id": "JUNh8i-3XTwH"
      },
      "outputs": [],
      "source": [
        "# Create an RDD from a list of tuples\n",
        "data = [(\"Alice\", 25), (\"Bob\", 30), (\"Charlie\", 35), (\"Alice\", 40)]\n",
        "rdd = spark.sparkContext.parallelize(data)"
      ]
    },
    {
      "cell_type": "code",
      "execution_count": null,
      "metadata": {
        "application/vnd.databricks.v1+cell": {
          "cellMetadata": {
            "byteLimit": 2048000,
            "rowLimit": 10000
          },
          "inputWidgets": {},
          "nuid": "25069f7a-a706-4871-af3e-0026f9ff33f8",
          "showTitle": false,
          "title": ""
        },
        "id": "gC4pp_ZcXTwI",
        "outputId": "eed7fd27-9d5c-4a4b-a4d7-46f74f21601f"
      },
      "outputs": [
        {
          "output_type": "stream",
          "name": "stdout",
          "text": [
            "All elements of the rdd:  [('Alice', 25), ('Bob', 30), ('Charlie', 35), ('Alice', 40)]\n"
          ]
        }
      ],
      "source": [
        "# Collect action: Retrieve all elements of the RDD\n",
        "print(\"All elements of the rdd: \", rdd.collect())"
      ]
    },
    {
      "cell_type": "markdown",
      "metadata": {
        "application/vnd.databricks.v1+cell": {
          "cellMetadata": {},
          "inputWidgets": {},
          "nuid": "d7a8de8d-bf8b-44f9-803a-f6af29951705",
          "showTitle": false,
          "title": ""
        },
        "id": "bjrsIdyLXTwI"
      },
      "source": [
        "### RDDs Operation: Actions"
      ]
    },
    {
      "cell_type": "code",
      "execution_count": null,
      "metadata": {
        "application/vnd.databricks.v1+cell": {
          "cellMetadata": {
            "byteLimit": 2048000,
            "rowLimit": 10000
          },
          "inputWidgets": {},
          "nuid": "0a180786-062f-4707-b40a-57e8ae23e5e6",
          "showTitle": false,
          "title": ""
        },
        "id": "XHxYkASdXTwJ",
        "outputId": "610861be-4ec0-49c1-aa4c-81bd15e5aff0"
      },
      "outputs": [
        {
          "output_type": "stream",
          "name": "stdout",
          "text": [
            "The total number of elements in rdd:  4\n"
          ]
        }
      ],
      "source": [
        "# Count action: Count the number of elements in the RDD\n",
        "count = rdd.count()\n",
        "print(\"The total number of elements in rdd: \", count)"
      ]
    },
    {
      "cell_type": "code",
      "execution_count": null,
      "metadata": {
        "application/vnd.databricks.v1+cell": {
          "cellMetadata": {},
          "inputWidgets": {},
          "nuid": "e1a4b712-a0f8-445a-9a78-574cc9f06b8e",
          "showTitle": false,
          "title": ""
        },
        "id": "jsA-UW96XTwK",
        "outputId": "d2222433-bbba-4367-8407-4a8406e1d540"
      },
      "outputs": [
        {
          "output_type": "stream",
          "name": "stdout",
          "text": [
            "The first element of the rdd:  ('Alice', 25)\n"
          ]
        }
      ],
      "source": [
        "# First action: Retrieve the first element of the RDD\n",
        "first_element = rdd.first()\n",
        "print(\"The first element of the rdd: \", first_element)"
      ]
    },
    {
      "cell_type": "code",
      "execution_count": null,
      "metadata": {
        "application/vnd.databricks.v1+cell": {
          "cellMetadata": {
            "byteLimit": 2048000,
            "rowLimit": 10000
          },
          "inputWidgets": {},
          "nuid": "4ac45c7c-f6e1-447f-bf01-7eec86355e69",
          "showTitle": false,
          "title": ""
        },
        "id": "KJKoEyYNXTwL",
        "outputId": "bf787cd5-49c0-46d6-9189-44b2411d7e35"
      },
      "outputs": [
        {
          "output_type": "stream",
          "name": "stdout",
          "text": [
            "The first two elements of the rdd:  [('Alice', 25), ('Bob', 30)]\n"
          ]
        }
      ],
      "source": [
        "# Take action: Retrieve the n elements of the RDD\n",
        "taken_elements = rdd.take(2)\n",
        "print(\"The first two elements of the rdd: \", taken_elements)"
      ]
    },
    {
      "cell_type": "code",
      "execution_count": null,
      "metadata": {
        "application/vnd.databricks.v1+cell": {
          "cellMetadata": {
            "byteLimit": 2048000,
            "rowLimit": 10000
          },
          "inputWidgets": {},
          "nuid": "a68ca32e-ef88-4603-9acd-eb35a0ce3d53",
          "showTitle": false,
          "title": ""
        },
        "id": "_PCTHUVNXTwM"
      },
      "outputs": [],
      "source": [
        "# Foreach action: Print each element of the RDD\n",
        "rdd.foreach(lambda x: print(x))"
      ]
    },
    {
      "cell_type": "markdown",
      "metadata": {
        "application/vnd.databricks.v1+cell": {
          "cellMetadata": {},
          "inputWidgets": {},
          "nuid": "3e2ed4c1-597e-463f-a86a-bb992abc6179",
          "showTitle": false,
          "title": ""
        },
        "id": "VkYH0-mOXTwM"
      },
      "source": [
        "### RDDs Operation: Transformations"
      ]
    },
    {
      "cell_type": "code",
      "execution_count": null,
      "metadata": {
        "application/vnd.databricks.v1+cell": {
          "cellMetadata": {
            "byteLimit": 2048000,
            "rowLimit": 10000
          },
          "inputWidgets": {},
          "nuid": "2dd4f0db-776e-4bc2-ac1e-8865ed7d2994",
          "showTitle": false,
          "title": ""
        },
        "id": "aZ9AYzRFXTwN"
      },
      "outputs": [],
      "source": [
        "# Map transformation: Convert name to uppercase\n",
        "mapped_rdd = rdd.map(lambda x: (x[0].upper(), x[1]))"
      ]
    },
    {
      "cell_type": "code",
      "execution_count": null,
      "metadata": {
        "application/vnd.databricks.v1+cell": {
          "cellMetadata": {
            "byteLimit": 2048000,
            "rowLimit": 10000
          },
          "inputWidgets": {},
          "nuid": "f97a2bac-59e1-4c12-a9b4-cfcc2d6c95dd",
          "showTitle": false,
          "title": ""
        },
        "id": "rTQxOL8GXTwN",
        "outputId": "70b62379-f705-4726-d3c9-33a831c951a4"
      },
      "outputs": [
        {
          "output_type": "stream",
          "name": "stdout",
          "text": [
            "rdd with uppercease name:  [('ALICE', 25), ('BOB', 30), ('CHARLIE', 35), ('ALICE', 40)]\n"
          ]
        }
      ],
      "source": [
        "result = mapped_rdd.collect()\n",
        "print(\"rdd with uppercease name: \", result)"
      ]
    },
    {
      "cell_type": "code",
      "execution_count": null,
      "metadata": {
        "application/vnd.databricks.v1+cell": {
          "cellMetadata": {},
          "inputWidgets": {},
          "nuid": "b0b46514-4d8f-4375-81f3-514a72522714",
          "showTitle": false,
          "title": ""
        },
        "id": "n4K50hqIXTwO",
        "outputId": "648b1aa3-0f75-48c3-9a30-a9aeca96413d"
      },
      "outputs": [
        {
          "output_type": "execute_result",
          "data": {
            "text/plain": [
              "[('Charlie', 35), ('Alice', 40)]"
            ]
          },
          "execution_count": 15,
          "metadata": {}
        }
      ],
      "source": [
        "# Filter transformation: Filter records where age is greater than 30\n",
        "filtered_rdd = rdd.filter(lambda x: x[1] > 30)\n",
        "filtered_rdd.collect()"
      ]
    },
    {
      "cell_type": "code",
      "execution_count": null,
      "metadata": {
        "application/vnd.databricks.v1+cell": {
          "cellMetadata": {},
          "inputWidgets": {},
          "nuid": "2327f9ea-e265-4dc7-9146-2271d56cb00a",
          "showTitle": false,
          "title": ""
        },
        "id": "n4vij9UoXTwP",
        "outputId": "227d4470-ef0e-48cd-f18d-0ad95df02f99"
      },
      "outputs": [
        {
          "output_type": "execute_result",
          "data": {
            "text/plain": [
              "[('Alice', 65), ('Bob', 30), ('Charlie', 35)]"
            ]
          },
          "execution_count": 16,
          "metadata": {}
        }
      ],
      "source": [
        "# ReduceByKey transformation: Calculate the total age for each name\n",
        "reduced_rdd = rdd.reduceByKey(lambda x, y: x + y)\n",
        "reduced_rdd.collect()"
      ]
    },
    {
      "cell_type": "code",
      "execution_count": null,
      "metadata": {
        "application/vnd.databricks.v1+cell": {
          "cellMetadata": {},
          "inputWidgets": {},
          "nuid": "d2261a3f-e4c0-476e-bc70-04c85027308d",
          "showTitle": false,
          "title": ""
        },
        "id": "2jqwh05nXTwP",
        "outputId": "b26cac2d-a0e8-4f78-90fd-b8c04c631164"
      },
      "outputs": [
        {
          "output_type": "execute_result",
          "data": {
            "text/plain": [
              "[('Alice', 40), ('Charlie', 35), ('Bob', 30), ('Alice', 25)]"
            ]
          },
          "execution_count": 17,
          "metadata": {}
        }
      ],
      "source": [
        "# SortBy transformation: Sort the RDD by age in descending order\n",
        "sorted_rdd = rdd.sortBy(lambda x: x[1], ascending=False)\n",
        "sorted_rdd.collect()"
      ]
    },
    {
      "cell_type": "code",
      "execution_count": null,
      "metadata": {
        "application/vnd.databricks.v1+cell": {
          "cellMetadata": {},
          "inputWidgets": {},
          "nuid": "e6601b13-595f-4a23-8514-e1e170d199ec",
          "showTitle": false,
          "title": ""
        },
        "id": "aFb9Cb2FXTwV"
      },
      "outputs": [],
      "source": []
    },
    {
      "cell_type": "code",
      "source": [],
      "metadata": {
        "id": "UBQapI0SlSp6"
      },
      "execution_count": null,
      "outputs": []
    }
  ],
  "metadata": {
    "application/vnd.databricks.v1+notebook": {
      "dashboards": [],
      "language": "python",
      "notebookMetadata": {
        "mostRecentlyExecutedCommandWithImplicitDF": {
          "commandId": 33432606720329,
          "dataframes": [
            "_sqldf"
          ]
        },
        "pythonIndentUnit": 4
      },
      "notebookName": "RDD-Operations",
      "widgets": {}
    },
    "kernelspec": {
      "display_name": "Python 3 (ipykernel)",
      "language": "python",
      "name": "python3"
    },
    "language_info": {
      "codemirror_mode": {
        "name": "ipython",
        "version": 3
      },
      "file_extension": ".py",
      "mimetype": "text/x-python",
      "name": "python",
      "nbconvert_exporter": "python",
      "pygments_lexer": "ipython3",
      "version": "3.10.8"
    },
    "colab": {
      "provenance": []
    }
  },
  "nbformat": 4,
  "nbformat_minor": 0
}