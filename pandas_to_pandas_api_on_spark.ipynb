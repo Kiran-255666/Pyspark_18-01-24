{
  "cells": [
    {
      "cell_type": "markdown",
      "metadata": {
        "application/vnd.databricks.v1+cell": {
          "cellMetadata": {},
          "inputWidgets": {},
          "nuid": "22023550-17d6-4d9a-bca7-b7a7e3682b4b",
          "showTitle": false,
          "title": ""
        },
        "id": "X2qx-D3NKNRG"
      },
      "source": [
        "# pandas to pandas API on Spark\n"
      ]
    },
    {
      "cell_type": "markdown",
      "metadata": {
        "application/vnd.databricks.v1+cell": {
          "cellMetadata": {},
          "inputWidgets": {},
          "nuid": "f0bb6f37-0201-4f31-969b-9e7e6f47dc9f",
          "showTitle": false,
          "title": ""
        },
        "id": "J-D_O5O_KNRK"
      },
      "source": [
        "## Migration from pandas to pandas API on Spark"
      ]
    },
    {
      "cell_type": "markdown",
      "metadata": {
        "application/vnd.databricks.v1+cell": {
          "cellMetadata": {},
          "inputWidgets": {},
          "nuid": "bcdad467-f8d5-456b-983f-183a78856735",
          "showTitle": false,
          "title": ""
        },
        "id": "p6UhI0aOKNRL"
      },
      "source": [
        "### Object creation"
      ]
    },
    {
      "cell_type": "code",
      "source": [
        "pip install pyspark"
      ],
      "metadata": {
        "id": "DKN1K88mKXwr"
      },
      "execution_count": null,
      "outputs": []
    },
    {
      "cell_type": "code",
      "execution_count": null,
      "metadata": {
        "application/vnd.databricks.v1+cell": {
          "cellMetadata": {},
          "inputWidgets": {},
          "nuid": "2412c0e1-3a50-4aec-86f5-94bacd77f9cb",
          "showTitle": false,
          "title": ""
        },
        "id": "c_1Qr_RoKNRM"
      },
      "outputs": [],
      "source": [
        "import numpy as np\n",
        "import pandas as pd\n",
        "import pyspark.pandas as ps"
      ]
    },
    {
      "cell_type": "code",
      "execution_count": null,
      "metadata": {
        "application/vnd.databricks.v1+cell": {
          "cellMetadata": {},
          "inputWidgets": {},
          "nuid": "7785239e-193a-4bc9-a32b-cdf6eb26e8c0",
          "showTitle": false,
          "title": ""
        },
        "id": "W9OYqWqPKNRQ"
      },
      "outputs": [],
      "source": [
        "# Create a pandas Series\n",
        "pser = pd.Series([1, 3, 5, np.nan, 6, 8])\n",
        "# Create a pandas-on-Spark Series\n",
        "psser = ps.Series([1, 3, 5, np.nan, 6, 8])\n",
        "# Create a pandas-on-Spark Series by passing a pandas Series\n",
        "psser = ps.Series(pser)\n",
        "psser = ps.from_pandas(pser)"
      ]
    },
    {
      "cell_type": "code",
      "execution_count": null,
      "metadata": {
        "application/vnd.databricks.v1+cell": {
          "cellMetadata": {},
          "inputWidgets": {},
          "nuid": "686b5262-9b4f-4c46-85f0-1fa34f37153c",
          "showTitle": false,
          "title": ""
        },
        "id": "3NuDcxRWKNRR"
      },
      "outputs": [],
      "source": [
        "pser"
      ]
    },
    {
      "cell_type": "code",
      "execution_count": null,
      "metadata": {
        "application/vnd.databricks.v1+cell": {
          "cellMetadata": {},
          "inputWidgets": {},
          "nuid": "0b295f35-2b44-46a9-b5fc-9570739798cc",
          "showTitle": false,
          "title": ""
        },
        "id": "9EKaojGKKNRS"
      },
      "outputs": [],
      "source": [
        "psser"
      ]
    },
    {
      "cell_type": "code",
      "execution_count": null,
      "metadata": {
        "application/vnd.databricks.v1+cell": {
          "cellMetadata": {},
          "inputWidgets": {},
          "nuid": "1efc9e03-032d-4696-bbc3-0dc9b6ca615c",
          "showTitle": false,
          "title": ""
        },
        "id": "ofoqqrPVKNRS"
      },
      "outputs": [],
      "source": [
        "psser.sort_index()"
      ]
    },
    {
      "cell_type": "code",
      "execution_count": null,
      "metadata": {
        "application/vnd.databricks.v1+cell": {
          "cellMetadata": {},
          "inputWidgets": {},
          "nuid": "42d981c3-5641-4df7-a45b-441db1d0527c",
          "showTitle": false,
          "title": ""
        },
        "id": "416IkcZkKNRT"
      },
      "outputs": [],
      "source": [
        "# Create a pandas DataFrame\n",
        "pdf = pd.DataFrame({'A': np.random.rand(5),\n",
        "                    'B': np.random.rand(5)})\n",
        "# Create a pandas-on-Spark DataFrame\n",
        "psdf = ps.DataFrame({'A': np.random.rand(5),\n",
        "                     'B': np.random.rand(5)})\n",
        "# Create a pandas-on-Spark DataFrame by passing a pandas DataFrame\n",
        "psdf = ps.DataFrame(pdf)\n",
        "psdf = ps.from_pandas(pdf)"
      ]
    },
    {
      "cell_type": "code",
      "execution_count": null,
      "metadata": {
        "application/vnd.databricks.v1+cell": {
          "cellMetadata": {},
          "inputWidgets": {},
          "nuid": "82cc0e30-97bc-48a0-91a8-9a142646f77a",
          "showTitle": false,
          "title": ""
        },
        "id": "lEcRey_ZKNRU"
      },
      "outputs": [],
      "source": [
        "pdf"
      ]
    },
    {
      "cell_type": "code",
      "execution_count": null,
      "metadata": {
        "application/vnd.databricks.v1+cell": {
          "cellMetadata": {},
          "inputWidgets": {},
          "nuid": "eb97c57e-e8bd-4d59-ac38-5855ac8ce1c9",
          "showTitle": false,
          "title": ""
        },
        "id": "DvWkJqWmKNRU"
      },
      "outputs": [],
      "source": [
        "psdf.sort_index()"
      ]
    },
    {
      "cell_type": "markdown",
      "metadata": {
        "application/vnd.databricks.v1+cell": {
          "cellMetadata": {},
          "inputWidgets": {},
          "nuid": "ded8265c-3522-4d64-8c79-b859ebe0a8cd",
          "showTitle": false,
          "title": ""
        },
        "id": "nralg_iSKNRV"
      },
      "source": [
        "### Viewing data"
      ]
    },
    {
      "cell_type": "code",
      "execution_count": null,
      "metadata": {
        "application/vnd.databricks.v1+cell": {
          "cellMetadata": {},
          "inputWidgets": {},
          "nuid": "98f4c48b-d6e0-4cad-9ef2-29d553029ad8",
          "showTitle": false,
          "title": ""
        },
        "scrolled": true,
        "id": "qhYFYCLOKNRV"
      },
      "outputs": [],
      "source": [
        "psdf.head(2)"
      ]
    },
    {
      "cell_type": "code",
      "execution_count": null,
      "metadata": {
        "application/vnd.databricks.v1+cell": {
          "cellMetadata": {},
          "inputWidgets": {},
          "nuid": "afab881e-f194-4034-a6fc-b09f92633d20",
          "showTitle": false,
          "title": ""
        },
        "id": "ksPmB9g8KNRW"
      },
      "outputs": [],
      "source": [
        "psdf.describe()"
      ]
    },
    {
      "cell_type": "code",
      "execution_count": null,
      "metadata": {
        "application/vnd.databricks.v1+cell": {
          "cellMetadata": {},
          "inputWidgets": {},
          "nuid": "ed7827c3-3a92-40c4-bd29-43df0f9b43b2",
          "showTitle": false,
          "title": ""
        },
        "scrolled": true,
        "id": "Z--t6sAoKNRX"
      },
      "outputs": [],
      "source": [
        "psdf.sort_values(by='B')"
      ]
    },
    {
      "cell_type": "code",
      "execution_count": null,
      "metadata": {
        "application/vnd.databricks.v1+cell": {
          "cellMetadata": {},
          "inputWidgets": {},
          "nuid": "f3938955-cc87-4869-b35e-bef85edd4244",
          "showTitle": false,
          "title": ""
        },
        "id": "NGshQk0iKNRX"
      },
      "outputs": [],
      "source": [
        "psdf.transpose()"
      ]
    },
    {
      "cell_type": "code",
      "execution_count": null,
      "metadata": {
        "application/vnd.databricks.v1+cell": {
          "cellMetadata": {},
          "inputWidgets": {},
          "nuid": "21f2552b-b8ff-4a8c-98ea-6902d1f74806",
          "showTitle": false,
          "title": ""
        },
        "id": "wJvFM8fAKNRY"
      },
      "outputs": [],
      "source": [
        "ps.get_option('compute.max_rows')"
      ]
    },
    {
      "cell_type": "code",
      "execution_count": null,
      "metadata": {
        "application/vnd.databricks.v1+cell": {
          "cellMetadata": {},
          "inputWidgets": {},
          "nuid": "289739a5-0c4e-4568-b096-7e2b6f8b35ee",
          "showTitle": false,
          "title": ""
        },
        "id": "K2D6TBJ8KNRY"
      },
      "outputs": [],
      "source": [
        "ps.set_option('compute.max_rows', 2000)\n",
        "ps.get_option('compute.max_rows')"
      ]
    },
    {
      "cell_type": "markdown",
      "metadata": {
        "application/vnd.databricks.v1+cell": {
          "cellMetadata": {},
          "inputWidgets": {},
          "nuid": "482e59e5-f4da-4c2f-859b-2713d988f5fe",
          "showTitle": false,
          "title": ""
        },
        "id": "Hmd5_DxEKNRY"
      },
      "source": [
        "### Selection"
      ]
    },
    {
      "cell_type": "code",
      "execution_count": null,
      "metadata": {
        "application/vnd.databricks.v1+cell": {
          "cellMetadata": {},
          "inputWidgets": {},
          "nuid": "607594bd-5ad4-47d0-b9b7-23e95f2fe8d5",
          "showTitle": false,
          "title": ""
        },
        "id": "qOHvYMtvKNRZ"
      },
      "outputs": [],
      "source": [
        "psdf['A']  # or psdf.A"
      ]
    },
    {
      "cell_type": "code",
      "execution_count": null,
      "metadata": {
        "application/vnd.databricks.v1+cell": {
          "cellMetadata": {},
          "inputWidgets": {},
          "nuid": "23886d8b-d7b0-4e18-a53d-ab75b2547a31",
          "showTitle": false,
          "title": ""
        },
        "id": "x8qGFaaIKNRZ"
      },
      "outputs": [],
      "source": [
        "psdf[['A', 'B']]"
      ]
    },
    {
      "cell_type": "code",
      "execution_count": null,
      "metadata": {
        "application/vnd.databricks.v1+cell": {
          "cellMetadata": {},
          "inputWidgets": {},
          "nuid": "db189dae-13af-4a84-97ab-801758eacefa",
          "showTitle": false,
          "title": ""
        },
        "scrolled": true,
        "id": "YRIujR1ZKNRa"
      },
      "outputs": [],
      "source": [
        "psdf.loc[1:2]"
      ]
    },
    {
      "cell_type": "code",
      "execution_count": null,
      "metadata": {
        "application/vnd.databricks.v1+cell": {
          "cellMetadata": {},
          "inputWidgets": {},
          "nuid": "eff73f87-a619-49e7-b4eb-007e099dcf4d",
          "showTitle": false,
          "title": ""
        },
        "id": "nRRjIzPhKNRa"
      },
      "outputs": [],
      "source": [
        "psdf.iloc[:3, 1:2]"
      ]
    },
    {
      "cell_type": "code",
      "source": [
        "type(psdf)"
      ],
      "metadata": {
        "id": "qhxpzuN7LenR"
      },
      "execution_count": null,
      "outputs": []
    },
    {
      "cell_type": "code",
      "execution_count": null,
      "metadata": {
        "application/vnd.databricks.v1+cell": {
          "cellMetadata": {},
          "inputWidgets": {},
          "nuid": "cee24405-6cd4-472f-9f2f-893b5ce54a59",
          "showTitle": false,
          "title": ""
        },
        "id": "a5f80EOkKNRb"
      },
      "outputs": [],
      "source": [
        "psser = ps.Series([100, 200, 300, 400, 500], index=[0, 1, 2, 3, 4])\n",
        "# The below commented line will fail since pandas-on-Spark disallows adding columns coming from\n",
        "# different DataFrames or Series to a pandas-on-Spark DataFrame as adding columns requires\n",
        "# join operations which are generally expensive.\n",
        "# This operation can be enabled by setting compute.ops_on_diff_frames to True.\n"
      ]
    },
    {
      "cell_type": "code",
      "execution_count": null,
      "metadata": {
        "application/vnd.databricks.v1+cell": {
          "cellMetadata": {},
          "inputWidgets": {},
          "nuid": "78c157ac-e457-41fc-9d29-fbade873c8b0",
          "showTitle": false,
          "title": ""
        },
        "id": "MMdsGKvlKNRb"
      },
      "outputs": [],
      "source": [
        "# Those are needed for managing options\n",
        "from pyspark.pandas.config import set_option, reset_option\n",
        "set_option(\"compute.ops_on_diff_frames\", True)\n",
        "psdf['C'] = psser\n",
        "# Reset to default to avoid potential expensive operation in the future\n",
        "reset_option(\"compute.ops_on_diff_frames\")\n",
        "psdf"
      ]
    },
    {
      "cell_type": "markdown",
      "metadata": {
        "application/vnd.databricks.v1+cell": {
          "cellMetadata": {},
          "inputWidgets": {},
          "nuid": "53d6baf6-35ba-43f8-bd40-caa82f898aa9",
          "showTitle": false,
          "title": ""
        },
        "id": "RHTpLG_vKNRc"
      },
      "source": [
        "### Applying Python function with pandas-on-Spark object"
      ]
    },
    {
      "cell_type": "code",
      "execution_count": null,
      "metadata": {
        "application/vnd.databricks.v1+cell": {
          "cellMetadata": {},
          "inputWidgets": {},
          "nuid": "963a2140-afbf-41bc-838c-6fa6f3e3c621",
          "showTitle": false,
          "title": ""
        },
        "id": "6Apa1MXFKNRc"
      },
      "outputs": [],
      "source": [
        "psdf.apply(np.cumsum)"
      ]
    },
    {
      "cell_type": "code",
      "execution_count": null,
      "metadata": {
        "application/vnd.databricks.v1+cell": {
          "cellMetadata": {},
          "inputWidgets": {},
          "nuid": "46094385-486c-4b60-b012-fbfb13b23dcb",
          "showTitle": false,
          "title": ""
        },
        "id": "AaKe28hkKNRc"
      },
      "outputs": [],
      "source": [
        "psdf.apply(np.cumsum, axis=1)"
      ]
    },
    {
      "cell_type": "code",
      "execution_count": null,
      "metadata": {
        "application/vnd.databricks.v1+cell": {
          "cellMetadata": {},
          "inputWidgets": {},
          "nuid": "58e20045-2581-4b25-9ee4-5cf4f6941fa8",
          "showTitle": false,
          "title": ""
        },
        "id": "Y06PQOagKNRd"
      },
      "outputs": [],
      "source": [
        "psdf.apply(lambda x: x ** 2)"
      ]
    },
    {
      "cell_type": "code",
      "execution_count": null,
      "metadata": {
        "application/vnd.databricks.v1+cell": {
          "cellMetadata": {},
          "inputWidgets": {},
          "nuid": "1a5ec03e-a1d9-47f9-8a37-00e35e5abb11",
          "showTitle": false,
          "title": ""
        },
        "id": "myFRnkiLKNRe"
      },
      "outputs": [],
      "source": [
        "def square(x) -> ps.Series[np.float64]:\n",
        "    return x ** 2"
      ]
    },
    {
      "cell_type": "code",
      "execution_count": null,
      "metadata": {
        "application/vnd.databricks.v1+cell": {
          "cellMetadata": {},
          "inputWidgets": {},
          "nuid": "32cfeae1-238d-435e-935f-74ec72661438",
          "showTitle": false,
          "title": ""
        },
        "id": "H0YizZndKNRf"
      },
      "outputs": [],
      "source": [
        "psdf.apply(square)"
      ]
    },
    {
      "cell_type": "code",
      "execution_count": null,
      "metadata": {
        "application/vnd.databricks.v1+cell": {
          "cellMetadata": {},
          "inputWidgets": {},
          "nuid": "9b4f2621-a79b-4f3c-8511-f933811cde1a",
          "showTitle": false,
          "title": ""
        },
        "id": "bVpuc1_dKNRg"
      },
      "outputs": [],
      "source": [
        "# Working properly since size of data <= compute.shortcut_limit (1000)\n",
        "ps.DataFrame({'A': range(1000)}).apply(lambda col: col.max())"
      ]
    },
    {
      "cell_type": "code",
      "execution_count": null,
      "metadata": {
        "application/vnd.databricks.v1+cell": {
          "cellMetadata": {},
          "inputWidgets": {},
          "nuid": "f719fd6a-1c3a-43c7-aa89-dd45fe259082",
          "showTitle": false,
          "title": ""
        },
        "scrolled": true,
        "id": "cB8vyz0YKNRg"
      },
      "outputs": [],
      "source": [
        "# Not working properly since size of data > compute.shortcut_limit (1000)\n",
        "ps.DataFrame({'A': range(1001)}).apply(lambda col: col.max())"
      ]
    },
    {
      "cell_type": "code",
      "execution_count": null,
      "metadata": {
        "application/vnd.databricks.v1+cell": {
          "cellMetadata": {},
          "inputWidgets": {},
          "nuid": "97c7c30f-b647-450e-aee8-d68a53f67416",
          "showTitle": false,
          "title": ""
        },
        "id": "i5D7aFCxKNRg"
      },
      "outputs": [],
      "source": [
        "ps.set_option('compute.shortcut_limit', 1001)\n",
        "ps.DataFrame({'A': range(1001)}).apply(lambda col: col.max())"
      ]
    },
    {
      "cell_type": "markdown",
      "metadata": {
        "application/vnd.databricks.v1+cell": {
          "cellMetadata": {},
          "inputWidgets": {},
          "nuid": "92482351-5c0e-4413-8635-4de8587129cc",
          "showTitle": false,
          "title": ""
        },
        "id": "qTUFM0iPKNRh"
      },
      "source": [
        "### Grouping Data"
      ]
    },
    {
      "cell_type": "code",
      "execution_count": null,
      "metadata": {
        "application/vnd.databricks.v1+cell": {
          "cellMetadata": {},
          "inputWidgets": {},
          "nuid": "0aef6c1b-ce0e-4049-9454-48d3b5a12dc4",
          "showTitle": false,
          "title": ""
        },
        "scrolled": true,
        "id": "EbI_q-uOKNRh"
      },
      "outputs": [],
      "source": [
        "psdf.groupby('A').sum()"
      ]
    },
    {
      "cell_type": "code",
      "execution_count": null,
      "metadata": {
        "application/vnd.databricks.v1+cell": {
          "cellMetadata": {},
          "inputWidgets": {},
          "nuid": "8b2995cb-6b18-4ac8-bfcd-cfdb21355f77",
          "showTitle": false,
          "title": ""
        },
        "id": "dD7K99l7KNRi"
      },
      "outputs": [],
      "source": [
        "psdf.groupby(['A', 'B']).sum()"
      ]
    },
    {
      "cell_type": "markdown",
      "metadata": {
        "application/vnd.databricks.v1+cell": {
          "cellMetadata": {},
          "inputWidgets": {},
          "nuid": "bfb33c92-cdb6-45a7-bd80-de7edf194ce8",
          "showTitle": false,
          "title": ""
        },
        "id": "OVB2EaCfKNRi"
      },
      "source": [
        "### Plotting"
      ]
    },
    {
      "cell_type": "code",
      "execution_count": null,
      "metadata": {
        "application/vnd.databricks.v1+cell": {
          "cellMetadata": {},
          "inputWidgets": {},
          "nuid": "bf893d00-bc5d-473e-b021-6470badea6b7",
          "showTitle": false,
          "title": ""
        },
        "id": "rg01I9upKNRj"
      },
      "outputs": [],
      "source": [
        "# This is needed for visualizing plot on notebook\n",
        "%matplotlib inline"
      ]
    },
    {
      "cell_type": "code",
      "execution_count": null,
      "metadata": {
        "application/vnd.databricks.v1+cell": {
          "cellMetadata": {},
          "inputWidgets": {},
          "nuid": "3075a39c-3e9e-40f8-a046-9ca7021f40ea",
          "showTitle": false,
          "title": ""
        },
        "id": "JPvKFFLwKNR8"
      },
      "outputs": [],
      "source": [
        "speed = [0.1, 17.5, 40, 48, 52, 69, 88]\n",
        "lifespan = [2, 8, 70, 1.5, 25, 12, 28]\n",
        "index = ['snail', 'pig', 'elephant',\n",
        "         'rabbit', 'giraffe', 'coyote', 'horse']\n",
        "psdf = ps.DataFrame({'speed': speed,\n",
        "                     'lifespan': lifespan}, index=index)\n",
        "psdf.plot.bar()"
      ]
    },
    {
      "cell_type": "code",
      "execution_count": null,
      "metadata": {
        "application/vnd.databricks.v1+cell": {
          "cellMetadata": {},
          "inputWidgets": {},
          "nuid": "70e6b290-bb39-4151-a020-9085e071340a",
          "showTitle": false,
          "title": ""
        },
        "scrolled": true,
        "id": "gpSZn9LEKNR9"
      },
      "outputs": [],
      "source": [
        "psdf.plot.barh()"
      ]
    },
    {
      "cell_type": "code",
      "execution_count": null,
      "metadata": {
        "application/vnd.databricks.v1+cell": {
          "cellMetadata": {},
          "inputWidgets": {},
          "nuid": "0abd5455-6564-4fc6-9910-ed9dc86680d9",
          "showTitle": false,
          "title": ""
        },
        "id": "wuLgOwgWKNR9"
      },
      "outputs": [],
      "source": [
        "psdf = ps.DataFrame({'mass': [0.330, 4.87, 5.97],\n",
        "                     'radius': [2439.7, 6051.8, 6378.1]},\n",
        "                    index=['Mercury', 'Venus', 'Earth'])\n",
        "psdf.plot.pie(y='mass')"
      ]
    },
    {
      "cell_type": "code",
      "execution_count": null,
      "metadata": {
        "application/vnd.databricks.v1+cell": {
          "cellMetadata": {},
          "inputWidgets": {},
          "nuid": "ca748c46-cefc-4492-a55e-3cd8b2741828",
          "showTitle": false,
          "title": ""
        },
        "id": "9eVvooyTKNR-"
      },
      "outputs": [],
      "source": [
        "psdf = ps.DataFrame({\n",
        "    'sales': [3, 2, 3, 9, 10, 6, 3],\n",
        "    'signups': [5, 5, 6, 12, 14, 13, 9],\n",
        "    'visits': [20, 42, 28, 62, 81, 50, 90],\n",
        "}, index=pd.date_range(start='2019/08/15', end='2020/03/09',\n",
        "                       freq='M'))\n",
        "psdf.plot.area()"
      ]
    },
    {
      "cell_type": "code",
      "execution_count": null,
      "metadata": {
        "application/vnd.databricks.v1+cell": {
          "cellMetadata": {},
          "inputWidgets": {},
          "nuid": "ee82b19f-3678-4f4a-9ea1-71de7dba9f73",
          "showTitle": false,
          "title": ""
        },
        "id": "kf7kqz56KNR_"
      },
      "outputs": [],
      "source": [
        "psdf = ps.DataFrame({'pig': [20, 18, 489, 675, 1776],\n",
        "                     'horse': [4, 25, 281, 600, 1900]},\n",
        "                    index=[1990, 1997, 2003, 2009, 2014])\n",
        "psdf.plot.line()"
      ]
    },
    {
      "cell_type": "code",
      "execution_count": null,
      "metadata": {
        "application/vnd.databricks.v1+cell": {
          "cellMetadata": {},
          "inputWidgets": {},
          "nuid": "96fbda0d-52f8-46e2-9ee6-57e4bcb7281f",
          "showTitle": false,
          "title": ""
        },
        "id": "UUIFhkP8KNSA"
      },
      "outputs": [],
      "source": [
        "pdf = pd.DataFrame(\n",
        "    np.random.randint(1, 7, 6000),\n",
        "    columns=['one'])\n",
        "pdf['two'] = pdf['one'] + np.random.randint(1, 7, 6000)\n",
        "psdf = ps.from_pandas(pdf)\n",
        "psdf.plot.hist(bins=12, alpha=0.5)"
      ]
    },
    {
      "cell_type": "code",
      "execution_count": null,
      "metadata": {
        "application/vnd.databricks.v1+cell": {
          "cellMetadata": {},
          "inputWidgets": {},
          "nuid": "79d92d63-30ca-48aa-a5c9-73b6d1c0d37b",
          "showTitle": false,
          "title": ""
        },
        "id": "5OC4hkSZKNSA"
      },
      "outputs": [],
      "source": [
        "psdf = ps.DataFrame([[5.1, 3.5, 0], [4.9, 3.0, 0], [7.0, 3.2, 1],\n",
        "                    [6.4, 3.2, 1], [5.9, 3.0, 2]],\n",
        "                   columns=['length', 'width', 'species'])\n",
        "psdf.plot.scatter(x='length',\n",
        "                  y='width',\n",
        "                  c='species')"
      ]
    },
    {
      "cell_type": "markdown",
      "metadata": {
        "application/vnd.databricks.v1+cell": {
          "cellMetadata": {},
          "inputWidgets": {},
          "nuid": "8758bfe6-b098-449a-a9ce-c4e0124d69ba",
          "showTitle": false,
          "title": ""
        },
        "id": "FMmXeyJDKNSB"
      },
      "source": [
        "## Missing Functionalities and Workarounds in pandas API on Spark"
      ]
    },
    {
      "cell_type": "markdown",
      "metadata": {
        "application/vnd.databricks.v1+cell": {
          "cellMetadata": {},
          "inputWidgets": {},
          "nuid": "6ea8677e-d15b-4364-a37c-28a82dc5b6ac",
          "showTitle": false,
          "title": ""
        },
        "id": "ekq4PeHuKNSB"
      },
      "source": [
        "### Directly use pandas APIs through type conversion"
      ]
    },
    {
      "cell_type": "code",
      "execution_count": null,
      "metadata": {
        "application/vnd.databricks.v1+cell": {
          "cellMetadata": {},
          "inputWidgets": {},
          "nuid": "a43c1c48-99db-4d40-9d43-b75765c8e3f7",
          "showTitle": false,
          "title": ""
        },
        "id": "bbK0QqrQKNSC"
      },
      "outputs": [],
      "source": [
        "psidx = psdf.index"
      ]
    },
    {
      "cell_type": "code",
      "execution_count": null,
      "metadata": {
        "application/vnd.databricks.v1+cell": {
          "cellMetadata": {},
          "inputWidgets": {},
          "nuid": "8ddfe0e2-75ab-41e1-9d19-f6df9fdde34c",
          "showTitle": false,
          "title": ""
        },
        "id": "In4UvPpOKNSC"
      },
      "outputs": [],
      "source": [
        "# Index.to_list() raises PandasNotImplementedError.\n",
        "# pandas API on Spark does not support this because it requires collecting all data into the client\n",
        "# (driver node) side. A simple workaround is to convert to pandas using to_pandas().\n",
        "\n",
        "\n"
      ]
    },
    {
      "cell_type": "code",
      "execution_count": null,
      "metadata": {
        "application/vnd.databricks.v1+cell": {
          "cellMetadata": {},
          "inputWidgets": {},
          "nuid": "9048b0f4-8088-4126-a548-e7ec4a9b99ae",
          "showTitle": false,
          "title": ""
        },
        "id": "xCPniPuXKNSD"
      },
      "outputs": [],
      "source": [
        "psidx.to_pandas().to_list()"
      ]
    },
    {
      "cell_type": "markdown",
      "metadata": {
        "application/vnd.databricks.v1+cell": {
          "cellMetadata": {},
          "inputWidgets": {},
          "nuid": "aa46a283-753b-4cdd-b186-c4a152612560",
          "showTitle": false,
          "title": ""
        },
        "id": "u29CoU40KNSD"
      },
      "source": [
        "### Native Support for pandas Objects"
      ]
    },
    {
      "cell_type": "code",
      "execution_count": null,
      "metadata": {
        "application/vnd.databricks.v1+cell": {
          "cellMetadata": {},
          "inputWidgets": {},
          "nuid": "756bce69-7f3c-4dc0-b6f5-2c263016684d",
          "showTitle": false,
          "title": ""
        },
        "id": "Hnbcmqq1KNSD"
      },
      "outputs": [],
      "source": [
        "psdf = ps.DataFrame({'A': 1.,\n",
        "                     'B': pd.Timestamp('20130102'),\n",
        "                     'C': pd.Series(1, index=list(range(4)), dtype='float32'),\n",
        "                     'D': np.array([3] * 4, dtype='int32'),\n",
        "                     'F': 'foo'})"
      ]
    },
    {
      "cell_type": "code",
      "execution_count": null,
      "metadata": {
        "application/vnd.databricks.v1+cell": {
          "cellMetadata": {},
          "inputWidgets": {},
          "nuid": "958ddb90-cff6-4ded-8944-3c31fba5de5f",
          "showTitle": false,
          "title": ""
        },
        "id": "pqrDUTI_KNSE"
      },
      "outputs": [],
      "source": [
        "psdf"
      ]
    },
    {
      "cell_type": "markdown",
      "metadata": {
        "application/vnd.databricks.v1+cell": {
          "cellMetadata": {},
          "inputWidgets": {},
          "nuid": "b2cc64ce-a11b-4a49-a527-ef13b7380297",
          "showTitle": false,
          "title": ""
        },
        "id": "z_eXpjZGKNSE"
      },
      "source": [
        "### Distributed execution for pandas functions"
      ]
    },
    {
      "cell_type": "code",
      "execution_count": null,
      "metadata": {
        "application/vnd.databricks.v1+cell": {
          "cellMetadata": {},
          "inputWidgets": {},
          "nuid": "ce95fe66-026a-4b90-91a9-01e92ab2498b",
          "showTitle": false,
          "title": ""
        },
        "id": "yT-Zxw7YKNSF"
      },
      "outputs": [],
      "source": [
        "i = pd.date_range('2018-04-09', periods=2000, freq='1D1min')\n",
        "ts = ps.DataFrame({'A': ['timestamp']}, index=i)\n",
        "\n",
        "# DataFrame.between_time() is not yet implemented in pandas API on Spark.\n",
        "# A simple workaround is to convert to a pandas DataFrame using to_pandas(),\n",
        "# and then applying the function.\n",
        "# ts.between_time('0:15', '0:16')"
      ]
    },
    {
      "cell_type": "code",
      "execution_count": null,
      "metadata": {
        "application/vnd.databricks.v1+cell": {
          "cellMetadata": {},
          "inputWidgets": {},
          "nuid": "89863f78-73c2-4a73-b1dc-32d60df9d9a4",
          "showTitle": false,
          "title": ""
        },
        "id": "K4FHPlsdKNSF"
      },
      "outputs": [],
      "source": [
        "ts.to_pandas().between_time('0:15', '0:16')"
      ]
    },
    {
      "cell_type": "code",
      "execution_count": null,
      "metadata": {
        "application/vnd.databricks.v1+cell": {
          "cellMetadata": {},
          "inputWidgets": {},
          "nuid": "9e2251a7-eb60-43c2-98e8-5aea3c26294f",
          "showTitle": false,
          "title": ""
        },
        "scrolled": true,
        "id": "MLDVsRmmKNSG"
      },
      "outputs": [],
      "source": [
        "ts.pandas_on_spark.apply_batch(func=lambda pdf: pdf.between_time('0:15', '0:16'))"
      ]
    },
    {
      "cell_type": "markdown",
      "metadata": {
        "application/vnd.databricks.v1+cell": {
          "cellMetadata": {},
          "inputWidgets": {},
          "nuid": "a4970b6c-0b83-4e7e-bef9-0c2e419c3280",
          "showTitle": false,
          "title": ""
        },
        "id": "qD3eVQPGKNSG"
      },
      "source": [
        "### Using SQL in pandas API on Spark"
      ]
    },
    {
      "cell_type": "code",
      "execution_count": null,
      "metadata": {
        "application/vnd.databricks.v1+cell": {
          "cellMetadata": {},
          "inputWidgets": {},
          "nuid": "f87e730c-a15c-4875-88ce-3251931ccbf8",
          "showTitle": false,
          "title": ""
        },
        "scrolled": false,
        "id": "XSuBj17IKNSH"
      },
      "outputs": [],
      "source": [
        "psdf = ps.DataFrame({'year': [1990, 1997, 2003, 2009, 2014],\n",
        "                     'pig': [20, 18, 489, 675, 1776],\n",
        "                     'horse': [4, 25, 281, 600, 1900]})"
      ]
    },
    {
      "cell_type": "code",
      "execution_count": null,
      "metadata": {
        "application/vnd.databricks.v1+cell": {
          "cellMetadata": {},
          "inputWidgets": {},
          "nuid": "b681cd3b-b600-4708-9781-5b4ce294ef20",
          "showTitle": false,
          "title": ""
        },
        "id": "hgogZZNrKNSH"
      },
      "outputs": [],
      "source": [
        "ps.sql(\"SELECT * FROM {psdf} WHERE pig > 100\", psdf = psdf)"
      ]
    },
    {
      "cell_type": "code",
      "execution_count": null,
      "metadata": {
        "application/vnd.databricks.v1+cell": {
          "cellMetadata": {},
          "inputWidgets": {},
          "nuid": "189df900-bf95-4ca6-986e-eb9e9738680c",
          "showTitle": false,
          "title": ""
        },
        "id": "UFDF9cEXKNSI"
      },
      "outputs": [],
      "source": [
        "pdf = pd.DataFrame({'year': [1990, 1997, 2003, 2009, 2014],\n",
        "                    'sheep': [22, 50, 121, 445, 791],\n",
        "                    'chicken': [250, 326, 589, 1241, 2118]})"
      ]
    },
    {
      "cell_type": "code",
      "execution_count": null,
      "metadata": {
        "application/vnd.databricks.v1+cell": {
          "cellMetadata": {},
          "inputWidgets": {},
          "nuid": "e9aab4ac-8842-44f2-b687-ba4b116af3e6",
          "showTitle": false,
          "title": ""
        },
        "scrolled": true,
        "id": "eMULkvJSKNSI"
      },
      "outputs": [],
      "source": [
        "ps.sql('''\n",
        "    SELECT ps.pig, pd.chicken\n",
        "    FROM {psdf} ps INNER JOIN {pdf} pd\n",
        "    ON ps.year = pd.year\n",
        "    ORDER BY ps.pig, pd.chicken''', psdf = psdf, pdf=pdf)"
      ]
    },
    {
      "cell_type": "markdown",
      "metadata": {
        "application/vnd.databricks.v1+cell": {
          "cellMetadata": {},
          "inputWidgets": {},
          "nuid": "39cf6e6a-ea25-46f8-9eeb-bb29c252bebd",
          "showTitle": false,
          "title": ""
        },
        "id": "dKTVsDOlKNSJ"
      },
      "source": [
        "## Working with PySpark"
      ]
    },
    {
      "cell_type": "markdown",
      "metadata": {
        "application/vnd.databricks.v1+cell": {
          "cellMetadata": {},
          "inputWidgets": {},
          "nuid": "5ead6d56-ad4a-4d68-9676-6c79daeba291",
          "showTitle": false,
          "title": ""
        },
        "id": "W9Igl9BEKNSJ"
      },
      "source": [
        "### Conversion from and to PySpark DataFrame"
      ]
    },
    {
      "cell_type": "code",
      "execution_count": null,
      "metadata": {
        "application/vnd.databricks.v1+cell": {
          "cellMetadata": {},
          "inputWidgets": {},
          "nuid": "5f85e51a-0df3-41f7-b18f-df9616dd3b9e",
          "showTitle": false,
          "title": ""
        },
        "id": "4LZtnmnRKNSK"
      },
      "outputs": [],
      "source": [
        "psdf = ps.DataFrame({'A': [1, 2, 3, 4, 5], 'B': [10, 20, 30, 40, 50]})\n",
        "sdf = psdf.to_spark()\n",
        "type(sdf)"
      ]
    },
    {
      "cell_type": "code",
      "execution_count": null,
      "metadata": {
        "application/vnd.databricks.v1+cell": {
          "cellMetadata": {},
          "inputWidgets": {},
          "nuid": "1b7e7836-c8ae-4d67-ad29-835ac741b0b0",
          "showTitle": false,
          "title": ""
        },
        "id": "uze3BDvNKNSK"
      },
      "outputs": [],
      "source": [
        "sdf.show()"
      ]
    },
    {
      "cell_type": "code",
      "execution_count": null,
      "metadata": {
        "application/vnd.databricks.v1+cell": {
          "cellMetadata": {},
          "inputWidgets": {},
          "nuid": "7b8f3184-070c-4e95-aea8-8320e48384d8",
          "showTitle": false,
          "title": ""
        },
        "id": "vUPi8zKEKNSL"
      },
      "outputs": [],
      "source": [
        "from pyspark.pandas import option_context\n",
        "with option_context(\n",
        "        \"compute.default_index_type\", \"distributed-sequence\"):\n",
        "    psdf = sdf.to_pandas_on_spark()\n",
        "type(psdf)"
      ]
    },
    {
      "cell_type": "code",
      "execution_count": null,
      "metadata": {
        "application/vnd.databricks.v1+cell": {
          "cellMetadata": {},
          "inputWidgets": {},
          "nuid": "bfc494e3-fadd-4d12-abf8-0c0f7d6b7d63",
          "showTitle": false,
          "title": ""
        },
        "id": "gIrE078VKNSL"
      },
      "outputs": [],
      "source": [
        "psdf"
      ]
    },
    {
      "cell_type": "code",
      "execution_count": null,
      "metadata": {
        "application/vnd.databricks.v1+cell": {
          "cellMetadata": {},
          "inputWidgets": {},
          "nuid": "bd46f52c-a8d1-4ea3-a80e-bb65c04a8206",
          "showTitle": false,
          "title": ""
        },
        "id": "3PWvPshIKNSM"
      },
      "outputs": [],
      "source": [
        "sdf.to_pandas_on_spark(index_col='A')"
      ]
    },
    {
      "cell_type": "markdown",
      "metadata": {
        "application/vnd.databricks.v1+cell": {
          "cellMetadata": {},
          "inputWidgets": {},
          "nuid": "b6e1ed02-6775-41e8-ac1d-69a88efe67c1",
          "showTitle": false,
          "title": ""
        },
        "id": "x59yTreZKNSM"
      },
      "source": [
        "### Checking Spark execution plans"
      ]
    },
    {
      "cell_type": "code",
      "execution_count": null,
      "metadata": {
        "application/vnd.databricks.v1+cell": {
          "cellMetadata": {},
          "inputWidgets": {},
          "nuid": "bcb7481d-d2b9-49fe-897a-ec10a2ea2d8d",
          "showTitle": false,
          "title": ""
        },
        "id": "-TP7Qv-yKNSN"
      },
      "outputs": [],
      "source": [
        "from pyspark.pandas import option_context\n",
        "\n",
        "with option_context(\n",
        "        \"compute.ops_on_diff_frames\", True,\n",
        "        \"compute.default_index_type\", 'distributed'):\n",
        "    df = ps.range(10) + ps.range(10)\n",
        "    df.spark.explain()"
      ]
    },
    {
      "cell_type": "code",
      "execution_count": null,
      "metadata": {
        "application/vnd.databricks.v1+cell": {
          "cellMetadata": {},
          "inputWidgets": {},
          "nuid": "d1cf10e8-0fc9-416b-bdc2-f4311bd081c1",
          "showTitle": false,
          "title": ""
        },
        "id": "XWvDnnY3KNSN"
      },
      "outputs": [],
      "source": [
        "with option_context(\n",
        "        \"compute.ops_on_diff_frames\", False,\n",
        "        \"compute.default_index_type\", 'distributed'):\n",
        "    df = ps.range(10)\n",
        "    df = df + df\n",
        "    df.spark.explain()"
      ]
    },
    {
      "cell_type": "markdown",
      "metadata": {
        "application/vnd.databricks.v1+cell": {
          "cellMetadata": {},
          "inputWidgets": {},
          "nuid": "eafac7d8-9b4d-4e65-8c93-a5b042e3ad23",
          "showTitle": false,
          "title": ""
        },
        "id": "Vb6dUWucKNSO"
      },
      "source": [
        "### Caching DataFrames"
      ]
    },
    {
      "cell_type": "code",
      "execution_count": null,
      "metadata": {
        "application/vnd.databricks.v1+cell": {
          "cellMetadata": {},
          "inputWidgets": {},
          "nuid": "0728b141-4e98-4130-8b23-477c34340208",
          "showTitle": false,
          "title": ""
        },
        "scrolled": true,
        "id": "Hlz-92xPKNSO"
      },
      "outputs": [],
      "source": [
        "with option_context(\"compute.default_index_type\", 'distributed'):\n",
        "    df = ps.range(10)\n",
        "    new_df = (df + df).spark.cache()  # `(df + df)` is cached here as `df`\n",
        "    new_df.spark.explain()"
      ]
    },
    {
      "cell_type": "code",
      "execution_count": null,
      "metadata": {
        "application/vnd.databricks.v1+cell": {
          "cellMetadata": {},
          "inputWidgets": {},
          "nuid": "d57708a2-8ec3-4f5e-839a-42eba8dbf717",
          "showTitle": false,
          "title": ""
        },
        "id": "j3dVKv0eKNSP"
      },
      "outputs": [],
      "source": [
        "new_df.spark.unpersist()"
      ]
    },
    {
      "cell_type": "code",
      "execution_count": null,
      "metadata": {
        "application/vnd.databricks.v1+cell": {
          "cellMetadata": {},
          "inputWidgets": {},
          "nuid": "e52413e6-1ef0-4790-9ac4-fc8334b46761",
          "showTitle": false,
          "title": ""
        },
        "scrolled": true,
        "id": "JOLmquPXKNSP"
      },
      "outputs": [],
      "source": [
        "with (df + df).spark.cache() as df:\n",
        "    df.spark.explain()"
      ]
    }
  ],
  "metadata": {
    "application/vnd.databricks.v1+notebook": {
      "dashboards": [],
      "language": "python",
      "notebookMetadata": {
        "pythonIndentUnit": 2
      },
      "notebookName": "pandas-to-pandas-api-on-spark",
      "widgets": {}
    },
    "kernelspec": {
      "display_name": "Python 3",
      "language": "python",
      "name": "python3"
    },
    "language_info": {
      "codemirror_mode": {
        "name": "ipython",
        "version": 3
      },
      "file_extension": ".py",
      "mimetype": "text/x-python",
      "name": "python",
      "nbconvert_exporter": "python",
      "pygments_lexer": "ipython3",
      "version": "3.7.2"
    },
    "colab": {
      "provenance": []
    }
  },
  "nbformat": 4,
  "nbformat_minor": 0
}